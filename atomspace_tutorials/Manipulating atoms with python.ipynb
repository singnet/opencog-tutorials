{
 "cells": [
  {
   "cell_type": "markdown",
   "metadata": {},
   "source": [
    "# Lesson: Manipulating Atoms in Python3"
   ]
  },
  {
   "cell_type": "code",
   "execution_count": 1,
   "metadata": {
    "collapsed": false
   },
   "outputs": [
    {
     "data": {
      "text/plain": [
       "['',\n",
       " '/usr/lib/python35.zip',\n",
       " '/usr/lib/python3.5',\n",
       " '/usr/lib/python3.5/plat-x86_64-linux-gnu',\n",
       " '/usr/lib/python3.5/lib-dynload',\n",
       " '/home/tensae/.local/lib/python3.5/site-packages',\n",
       " '/usr/local/lib/python3.5/dist-packages',\n",
       " '/usr/lib/python3/dist-packages',\n",
       " '/usr/local/lib/python3.5/dist-packages/IPython/extensions',\n",
       " '/home/tensae/.ipython']"
      ]
     },
     "execution_count": 1,
     "metadata": {},
     "output_type": "execute_result"
    }
   ],
   "source": [
    "import sys\n",
    "sys.path"
   ]
  },
  {
   "cell_type": "markdown",
   "metadata": {},
   "source": [
    "### Making some Atoms (python)\n",
    "\n",
    "Here I will mostly use the ipython shell to give examples. But you can of course put all the commands in a script if you like. Import AtomSpace and types to start making atoms."
   ]
  },
  {
   "cell_type": "code",
   "execution_count": 2,
   "metadata": {
    "collapsed": true
   },
   "outputs": [],
   "source": [
    "from opencog.atomspace import AtomSpace, types"
   ]
  },
  {
   "cell_type": "markdown",
   "metadata": {},
   "source": [
    "There are two ways to create Atoms in python. You can use the c++ like syntax or you can use the scheme like syntax.\n",
    "\n",
    "__c++ like syntax__"
   ]
  },
  {
   "cell_type": "code",
   "execution_count": 3,
   "metadata": {
    "collapsed": true
   },
   "outputs": [],
   "source": [
    "atsp = AtomSpace()"
   ]
  },
  {
   "cell_type": "code",
   "execution_count": 4,
   "metadata": {
    "collapsed": true
   },
   "outputs": [],
   "source": [
    "cat = atsp.add_node(types.ConceptNode, \"Cat\")"
   ]
  },
  {
   "cell_type": "code",
   "execution_count": 5,
   "metadata": {
    "collapsed": true
   },
   "outputs": [],
   "source": [
    "animal = atsp.add_node(types.ConceptNode, \"Animal\")"
   ]
  },
  {
   "cell_type": "code",
   "execution_count": 6,
   "metadata": {
    "collapsed": true
   },
   "outputs": [],
   "source": [
    "man = atsp.add_node(types.ConceptNode, \"Man\")"
   ]
  },
  {
   "cell_type": "code",
   "execution_count": 7,
   "metadata": {
    "collapsed": false
   },
   "outputs": [
    {
     "data": {
      "text/plain": [
       "(ConceptNode \"Man\") ; [4943495822049051872][1]"
      ]
     },
     "execution_count": 7,
     "metadata": {},
     "output_type": "execute_result"
    }
   ],
   "source": [
    "man"
   ]
  },
  {
   "cell_type": "markdown",
   "metadata": {},
   "source": [
    "So printing the AtomSpace didn't quite work out as we might have expected from c++. We can print its contents as follows:"
   ]
  },
  {
   "cell_type": "code",
   "execution_count": 8,
   "metadata": {
    "collapsed": false
   },
   "outputs": [
    {
     "name": "stdout",
     "output_type": "stream",
     "text": [
      "(ConceptNode \"Animal\")\n",
      "\n",
      "(ConceptNode \"Man\")\n",
      "\n",
      "(ConceptNode \"Cat\")\n",
      "\n"
     ]
    }
   ],
   "source": [
    "for atom in atsp:\n",
    "    print (atom)"
   ]
  },
  {
   "cell_type": "markdown",
   "metadata": {},
   "source": [
    "Now lets add some links into the AtomSpace. This is again, just like c++."
   ]
  },
  {
   "cell_type": "code",
   "execution_count": 9,
   "metadata": {
    "collapsed": false
   },
   "outputs": [
    {
     "data": {
      "text/plain": [
       "(InheritanceLink\n",
       "  (ConceptNode \"Man\") ; [4943495822049051872][1]\n",
       "  (ConceptNode \"Animal\") ; [1051245045201563895][1]\n",
       ") ; [17225707082406533815][1]"
      ]
     },
     "execution_count": 9,
     "metadata": {},
     "output_type": "execute_result"
    }
   ],
   "source": [
    "atsp.add_link(types.InheritanceLink, [man, animal])"
   ]
  },
  {
   "cell_type": "markdown",
   "metadata": {},
   "source": [
    "__scheme like syntax__\n",
    "\n",
    "To use scheme like concise syntax you have to do a few extra steps. Import the type_constructors that enable you to add atoms to the AtomSpace by calling functions named after their types. Import initialize_opencog a function that binds a AtomSpace instance to the type_constructors."
   ]
  },
  {
   "cell_type": "code",
   "execution_count": 10,
   "metadata": {
    "collapsed": true
   },
   "outputs": [],
   "source": [
    "from opencog.utilities import initialize_opencog"
   ]
  },
  {
   "cell_type": "code",
   "execution_count": 11,
   "metadata": {
    "collapsed": true
   },
   "outputs": [],
   "source": [
    "from opencog.type_constructors import *"
   ]
  },
  {
   "cell_type": "markdown",
   "metadata": {},
   "source": [
    "Now you can add atoms just like in scheme. This becomes very useful when you start building complex patterns for the pattern matcher."
   ]
  },
  {
   "cell_type": "code",
   "execution_count": 12,
   "metadata": {
    "collapsed": true
   },
   "outputs": [],
   "source": [
    "initialize_opencog(atsp)"
   ]
  },
  {
   "cell_type": "code",
   "execution_count": 13,
   "metadata": {
    "collapsed": true
   },
   "outputs": [],
   "source": [
    "color = ConceptNode(\"Color\")"
   ]
  },
  {
   "cell_type": "code",
   "execution_count": 14,
   "metadata": {
    "collapsed": true
   },
   "outputs": [],
   "source": [
    "c1 = ConceptNode(\"Blue\")"
   ]
  },
  {
   "cell_type": "code",
   "execution_count": 15,
   "metadata": {
    "collapsed": true
   },
   "outputs": [],
   "source": [
    "link = InheritanceLink(c1, color)"
   ]
  },
  {
   "cell_type": "code",
   "execution_count": 16,
   "metadata": {
    "collapsed": false
   },
   "outputs": [
    {
     "name": "stdout",
     "output_type": "stream",
     "text": [
      "(ConceptNode \"Blue\")\n",
      "\n",
      "(ConceptNode \"Cat\")\n",
      "\n",
      "(ConceptNode \"Man\")\n",
      "\n",
      "(ConceptNode \"Animal\")\n",
      "\n",
      "(ConceptNode \"Color\")\n",
      "\n",
      "(InheritanceLink\n",
      "  (ConceptNode \"Blue\")\n",
      "  (ConceptNode \"Color\")\n",
      ")\n",
      "\n",
      "(InheritanceLink\n",
      "  (ConceptNode \"Man\")\n",
      "  (ConceptNode \"Animal\")\n",
      ")\n",
      "\n"
     ]
    }
   ],
   "source": [
    "for atom in atsp:\n",
    "    print (atom)"
   ]
  },
  {
   "cell_type": "markdown",
   "metadata": {},
   "source": [
    "One last thing before we wrap this up. The Atoms are classes with a lot of useful methods. If you are in the ipython shell you can look at a list by writing <variable_pointing_to_an_atom>.<Tab>. For example we have a variable color that points to the ConceptNode object of name \"Color\". Then I can see a list of all the method I can call on it by pressing tab to view the options."
   ]
  },
  {
   "cell_type": "code",
   "execution_count": 17,
   "metadata": {
    "collapsed": false
   },
   "outputs": [
    {
     "data": {
      "text/plain": [
       "18"
      ]
     },
     "execution_count": 17,
     "metadata": {},
     "output_type": "execute_result"
    }
   ],
   "source": [
    "color.t"
   ]
  },
  {
   "cell_type": "markdown",
   "metadata": {},
   "source": [
    "#### Pattern Matching\n",
    "\n",
    "Now lets look at how we can run the PM through python. The PM functions are defined in c++ and made available in python through wrappers that are defined in atomspace/opencog/cython/opencog/bindlink.pyx and you can see the imports in atomspace/opencog/cython/opencog/bindlink.pxd\n",
    "\n",
    "Here we will again run the equivalent of bindlink and cog-staisfying-set functions in scheme."
   ]
  },
  {
   "cell_type": "code",
   "execution_count": 18,
   "metadata": {
    "collapsed": true
   },
   "outputs": [],
   "source": [
    "#Import the staisfying_set function\n",
    "from opencog.bindlink import satisfying_set"
   ]
  },
  {
   "cell_type": "code",
   "execution_count": 19,
   "metadata": {
    "collapsed": true
   },
   "outputs": [],
   "source": [
    "#Delete existing atoms\n",
    "atsp.clear()"
   ]
  },
  {
   "cell_type": "code",
   "execution_count": 20,
   "metadata": {
    "collapsed": false
   },
   "outputs": [
    {
     "data": {
      "text/plain": [
       "(InheritanceLink\n",
       "  (ConceptNode \"Red\") ; [6709592507294448610][1]\n",
       "  (ConceptNode \"Color\") ; [8429248309562626666][1]\n",
       ") ; [18321296701882258284][1]"
      ]
     },
     "execution_count": 20,
     "metadata": {},
     "output_type": "execute_result"
    }
   ],
   "source": [
    "#Create some atoms\n",
    "InheritanceLink(ConceptNode(\"Red\"), color)"
   ]
  },
  {
   "cell_type": "code",
   "execution_count": 21,
   "metadata": {
    "collapsed": false
   },
   "outputs": [
    {
     "data": {
      "text/plain": [
       "(InheritanceLink\n",
       "  (ConceptNode \"Green\") ; [7362812596333203375][1]\n",
       "  (ConceptNode \"Color\") ; [8429248309562626666][1]\n",
       ") ; [12207443529596838105][1]"
      ]
     },
     "execution_count": 21,
     "metadata": {},
     "output_type": "execute_result"
    }
   ],
   "source": [
    "InheritanceLink(ConceptNode(\"Green\"), color)"
   ]
  },
  {
   "cell_type": "code",
   "execution_count": 22,
   "metadata": {
    "collapsed": false
   },
   "outputs": [
    {
     "data": {
      "text/plain": [
       "(InheritanceLink\n",
       "  (ConceptNode \"Blue\") ; [3109877522812845760][1]\n",
       "  (ConceptNode \"Color\") ; [8429248309562626666][1]\n",
       ") ; [10211166656246673930][1]"
      ]
     },
     "execution_count": 22,
     "metadata": {},
     "output_type": "execute_result"
    }
   ],
   "source": [
    "InheritanceLink(ConceptNode(\"Blue\"), color)"
   ]
  },
  {
   "cell_type": "code",
   "execution_count": 23,
   "metadata": {
    "collapsed": true
   },
   "outputs": [],
   "source": [
    "#Create a pattern to look for color nodes\n",
    "varlink = TypedVariableLink(VariableNode(\"$xcol\"), TypeNode(\"ConceptNode\"))"
   ]
  },
  {
   "cell_type": "code",
   "execution_count": 24,
   "metadata": {
    "collapsed": true
   },
   "outputs": [],
   "source": [
    "pattern = InheritanceLink(VariableNode(\"$xcol\"), color)"
   ]
  },
  {
   "cell_type": "code",
   "execution_count": 25,
   "metadata": {
    "collapsed": true
   },
   "outputs": [],
   "source": [
    "colornodes = GetLink(varlink, pattern)"
   ]
  },
  {
   "cell_type": "code",
   "execution_count": 26,
   "metadata": {
    "collapsed": false
   },
   "outputs": [
    {
     "data": {
      "text/plain": [
       "(SetLink\n",
       "  (ConceptNode \"Blue\") ; [3109877522812845760][1]\n",
       "  (ConceptNode \"Red\") ; [6709592507294448610][1]\n",
       "  (ConceptNode \"Green\") ; [7362812596333203375][1]\n",
       ") ; [17576040149376550613][1]"
      ]
     },
     "execution_count": 26,
     "metadata": {},
     "output_type": "execute_result"
    }
   ],
   "source": [
    "satisfying_set(atsp, colornodes)"
   ]
  },
  {
   "cell_type": "code",
   "execution_count": 27,
   "metadata": {
    "collapsed": false
   },
   "outputs": [],
   "source": [
    "def something():\n",
    "   \n",
    "   \"\"\"run the function to find all color nodes.\n",
    "     \n",
    "        >>> satisfying_set(atsp, colornodes)\n",
    "        (SetLink\n",
    "          (ConceptNode \"Blue\") ; [3109877522812845760][1]\n",
    "          (ConceptNode \"Red\") ; [6709592507294448610][1]\n",
    "          (ConceptNode \"Green\") ; [7362812596333203375][1]\n",
    "        ) ; [17576040149376550613][1]\n",
    "                                        \n",
    "   \"\"\""
   ]
  },
  {
   "cell_type": "markdown",
   "metadata": {},
   "source": [
    "In a similar manner you can import bindlink from opencog.bindlink and use it to execute rewrite queries (with the help of BindLink in place of SatisfactionLink)"
   ]
  },
  {
   "cell_type": "code",
   "execution_count": 28,
   "metadata": {
    "collapsed": true
   },
   "outputs": [],
   "source": [
    "import doctest"
   ]
  },
  {
   "cell_type": "code",
   "execution_count": 29,
   "metadata": {
    "collapsed": false
   },
   "outputs": [
    {
     "name": "stdout",
     "output_type": "stream",
     "text": [
      "Trying:\n",
      "    satisfying_set(atsp, colornodes)\n",
      "Expecting:\n",
      "    (SetLink\n",
      "      (ConceptNode \"Blue\") ; [3109877522812845760][1]\n",
      "      (ConceptNode \"Red\") ; [6709592507294448610][1]\n",
      "      (ConceptNode \"Green\") ; [7362812596333203375][1]\n",
      "    ) ; [17576040149376550613][1]\n",
      "**********************************************************************\n",
      "Line 3, in __main__.something\n",
      "Failed example:\n",
      "    satisfying_set(atsp, colornodes)\n",
      "Expected:\n",
      "    (SetLink\n",
      "      (ConceptNode \"Blue\") ; [3109877522812845760][1]\n",
      "      (ConceptNode \"Red\") ; [6709592507294448610][1]\n",
      "      (ConceptNode \"Green\") ; [7362812596333203375][1]\n",
      "    ) ; [17576040149376550613][1]\n",
      "Got:\n",
      "    (SetLink\n",
      "      (ConceptNode \"Blue\") ; [3109877522812845760][1]\n",
      "      (ConceptNode \"Red\") ; [6709592507294448610][1]\n",
      "      (ConceptNode \"Green\") ; [7362812596333203375][1]\n",
      "    ) ; [17576040149376550613][1]\n",
      "    <BLANKLINE>\n",
      "1 items had no tests:\n",
      "    __main__\n",
      "**********************************************************************\n",
      "1 items had failures:\n",
      "   1 of   1 in __main__.something\n",
      "1 tests in 2 items.\n",
      "0 passed and 1 failed.\n",
      "***Test Failed*** 1 failures.\n"
     ]
    },
    {
     "data": {
      "text/plain": [
       "TestResults(failed=1, attempted=1)"
      ]
     },
     "execution_count": 29,
     "metadata": {},
     "output_type": "execute_result"
    }
   ],
   "source": [
    "doctest.testmod(verbose=True)"
   ]
  },
  {
   "cell_type": "code",
   "execution_count": null,
   "metadata": {
    "collapsed": true
   },
   "outputs": [],
   "source": []
  }
 ],
 "metadata": {
  "kernelspec": {
   "display_name": "Python 3",
   "language": "python",
   "name": "python3"
  },
  "language_info": {
   "codemirror_mode": {
    "name": "ipython",
    "version": 3
   },
   "file_extension": ".py",
   "mimetype": "text/x-python",
   "name": "python",
   "nbconvert_exporter": "python",
   "pygments_lexer": "ipython3",
   "version": "3.5.2"
  }
 },
 "nbformat": 4,
 "nbformat_minor": 2
}
