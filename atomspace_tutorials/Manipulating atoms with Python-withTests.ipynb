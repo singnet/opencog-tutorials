{
 "cells": [
  {
   "cell_type": "code",
   "execution_count": 361,
   "metadata": {
    "collapsed": false
   },
   "outputs": [
    {
     "data": {
      "text/plain": [
       "['',\n",
       " '/usr/lib/python35.zip',\n",
       " '/usr/lib/python3.5',\n",
       " '/usr/lib/python3.5/plat-x86_64-linux-gnu',\n",
       " '/usr/lib/python3.5/lib-dynload',\n",
       " '/home/tensae/.local/lib/python3.5/site-packages',\n",
       " '/usr/local/lib/python3.5/dist-packages',\n",
       " '/usr/lib/python3/dist-packages',\n",
       " '/usr/local/lib/python3.5/dist-packages/IPython/extensions',\n",
       " '/home/tensae/.ipython']"
      ]
     },
     "execution_count": 361,
     "metadata": {},
     "output_type": "execute_result"
    }
   ],
   "source": [
    "import sys\n",
    "sys.path"
   ]
  },
  {
   "cell_type": "markdown",
   "metadata": {},
   "source": [
    "# Making some Atoms in python\n",
    "\n",
    "Here we will mostly use the ipython shell to give examples. But you can of course put all the commands in a *script_name.py* file if you like and execute it, on terminal, using the command :\n",
    "\n",
    "*$ python script_name.py* "
   ]
  },
  {
   "cell_type": "code",
   "execution_count": 362,
   "metadata": {
    "collapsed": false
   },
   "outputs": [],
   "source": [
    "# Import AtomSpace and types to start making atoms.\n",
    "from opencog.atomspace import AtomSpace, types"
   ]
  },
  {
   "cell_type": "markdown",
   "metadata": {},
   "source": [
    "There are two ways to create Atoms in python. You can use the c++ like syntax or you can use the scheme like syntax."
   ]
  },
  {
   "cell_type": "markdown",
   "metadata": {},
   "source": [
    "# c++ like syntax"
   ]
  },
  {
   "cell_type": "code",
   "execution_count": 363,
   "metadata": {
    "collapsed": true
   },
   "outputs": [],
   "source": [
    "#declare an atomspace called atsp\n",
    "atsp = AtomSpace()"
   ]
  },
  {
   "cell_type": "code",
   "execution_count": 364,
   "metadata": {
    "collapsed": true
   },
   "outputs": [],
   "source": [
    "#initializing atoms(nodes) of type ConceptNode.\n",
    "cat = atsp.add_node(types.ConceptNode, \"Cat\")\n",
    "animal = atsp.add_node(types.ConceptNode, \"Animal\")\n",
    "man = atsp.add_node(types.ConceptNode, \"Man\")"
   ]
  },
  {
   "cell_type": "code",
   "execution_count": 365,
   "metadata": {
    "collapsed": false,
    "scrolled": true
   },
   "outputs": [
    {
     "data": {
      "text/plain": [
       "(ConceptNode \"Man\") ; [4943495822049051872][48]"
      ]
     },
     "execution_count": 365,
     "metadata": {},
     "output_type": "execute_result"
    }
   ],
   "source": [
    "#print a node\n",
    "man"
   ]
  },
  {
   "cell_type": "markdown",
   "metadata": {},
   "source": [
    "Printing the AtomSpace will not quite work out as we might expect from c++. We can print its contents as follows:"
   ]
  },
  {
   "cell_type": "code",
   "execution_count": 366,
   "metadata": {
    "collapsed": false
   },
   "outputs": [
    {
     "name": "stdout",
     "output_type": "stream",
     "text": [
      "(ConceptNode \"Animal\")\n",
      "\n",
      "(ConceptNode \"Man\")\n",
      "\n",
      "(ConceptNode \"Cat\")\n",
      "\n"
     ]
    }
   ],
   "source": [
    "#print the atomsapce\n",
    "for atom in atsp:\n",
    "    print (atom)"
   ]
  },
  {
   "cell_type": "markdown",
   "metadata": {},
   "source": [
    "Now lets add some links into the AtomSpace. This is again, just like c++."
   ]
  },
  {
   "cell_type": "code",
   "execution_count": 367,
   "metadata": {
    "collapsed": false
   },
   "outputs": [
    {
     "data": {
      "text/plain": [
       "(InheritanceLink\n",
       "  (ConceptNode \"Man\") ; [4943495822049051872][48]\n",
       "  (ConceptNode \"Animal\") ; [1051245045201563895][48]\n",
       ") ; [17225707082406533815][48]"
      ]
     },
     "execution_count": 367,
     "metadata": {},
     "output_type": "execute_result"
    }
   ],
   "source": [
    "#initialize atom of type InheritanceLink.\n",
    "atsp.add_link(types.InheritanceLink, [man, animal])"
   ]
  },
  {
   "cell_type": "code",
   "execution_count": 368,
   "metadata": {
    "collapsed": false
   },
   "outputs": [],
   "source": [
    "def cplusplus_like_syntax ():\n",
    "    \"\"\"\n",
    "    >>> man\n",
    "    (ConceptNode \"Man\") ; [...][...]\n",
    "    <BLANKLINE>\n",
    "  \n",
    "    >>> atsp.add_link(types.InheritanceLink, [man, animal])\n",
    "    (InheritanceLink\n",
    "      (ConceptNode \"Man\") ; [...][...]\n",
    "      (ConceptNode \"Animal\") ; [...][...]\n",
    "    ) ; [...][...]\n",
    "    <BLANKLINE>\n",
    "    \"\"\"\n",
    "    pass "
   ]
  },
  {
   "cell_type": "markdown",
   "metadata": {},
   "source": [
    "# scheme like syntax\n",
    "\n",
    "To use scheme like concise syntax you have to do a few extra steps. Import the *type_constructors* that enable you to add atoms to the AtomSpace by calling functions named after their types. Import *initialize_opencog*, a function that binds an AtomSpace instance (*atsp* in our case) to the *type_constructors*."
   ]
  },
  {
   "cell_type": "code",
   "execution_count": 369,
   "metadata": {
    "collapsed": false
   },
   "outputs": [],
   "source": [
    "#Import initialize_opencog\n",
    "from opencog.utilities import initialize_opencog"
   ]
  },
  {
   "cell_type": "code",
   "execution_count": 370,
   "metadata": {
    "collapsed": true
   },
   "outputs": [],
   "source": [
    "#Import type_constructors\n",
    "from opencog.type_constructors import *"
   ]
  },
  {
   "cell_type": "markdown",
   "metadata": {},
   "source": [
    "Now you can add atoms just like in scheme. This becomes very useful when you start building complex patterns for the *pattern matcher*."
   ]
  },
  {
   "cell_type": "code",
   "execution_count": 371,
   "metadata": {
    "collapsed": true
   },
   "outputs": [],
   "source": [
    "#bind atsp with the type_constructors\n",
    "initialize_opencog(atsp)"
   ]
  },
  {
   "cell_type": "code",
   "execution_count": 372,
   "metadata": {
    "collapsed": true
   },
   "outputs": [],
   "source": [
    "#initialize and add more atoms into atsp\n",
    "color = ConceptNode(\"Color\")\n",
    "c1 = ConceptNode(\"Blue\")\n",
    "link = InheritanceLink(c1, color)"
   ]
  },
  {
   "cell_type": "code",
   "execution_count": 373,
   "metadata": {
    "collapsed": false
   },
   "outputs": [
    {
     "name": "stdout",
     "output_type": "stream",
     "text": [
      "(ConceptNode \"Blue\")\n",
      "\n",
      "(ConceptNode \"Cat\")\n",
      "\n",
      "(ConceptNode \"Man\")\n",
      "\n",
      "(ConceptNode \"Animal\")\n",
      "\n",
      "(ConceptNode \"Color\")\n",
      "\n",
      "(InheritanceLink\n",
      "  (ConceptNode \"Blue\")\n",
      "  (ConceptNode \"Color\")\n",
      ")\n",
      "\n",
      "(InheritanceLink\n",
      "  (ConceptNode \"Man\")\n",
      "  (ConceptNode \"Animal\")\n",
      ")\n",
      "\n"
     ]
    }
   ],
   "source": [
    "#print the atomspace\n",
    "for atom in atsp:\n",
    "    print (atom)"
   ]
  },
  {
   "cell_type": "markdown",
   "metadata": {},
   "source": [
    "One last thing before we wrap this up. The Atoms are classes with a lot of useful methods. If you are in the ipython shell you can look at a list of the methods by writing *< variable_pointing_to_an_atom >* . *< Tab >*. For example, we have a variable called *\"color\"* that points to the *ConceptNode* object of name *\"Color\"*. Then we can see a list of all the methods of *\"color\"* by :\n",
    "\n",
    "*color.< Press Tab >*"
   ]
  },
  {
   "cell_type": "code",
   "execution_count": 374,
   "metadata": {
    "collapsed": true
   },
   "outputs": [],
   "source": [
    "def test_AIO():\n",
    "    \"\"\" test scheme like syntax, c++ like syntax and patternmatcher all in one.\n",
    "    >>> human = atsp.add_node(types.ConceptNode, \"human being\") \n",
    "    >>> human # test for the c++ like syntax\n",
    "    (ConceptNode \"human being\") ; [...][...]\n",
    "    <BLANKLINE>\n",
    "    >>> InheritanceLink(ConceptNode(\"Minilik\"), human) # test for the scheme like syntax\n",
    "    (InheritanceLink\n",
    "      (ConceptNode \"Minilik\") ; [...][...]\n",
    "      (ConceptNode \"human being\") ; [...][...]\n",
    "    ) ; ...\n",
    "    <BLANKLINE>\n",
    "    >>> InheritanceLink(atsp.add_node(types.ConceptNode, \"Tayitu\"), human) # test for the combination of the two syntaxs\n",
    "    (InheritanceLink\n",
    "      (ConceptNode \"Tayitu\") ; [...][...]\n",
    "      (ConceptNode \"human being\") ; [...][...]\n",
    "    ) ; [...][...]\n",
    "    <BLANKLINE>\n",
    "    >>> variable_link = TypedVariableLink(VariableNode(\"$xpeople\"), TypeNode(\"ConceptNode\"))\n",
    "    >>> patt = InheritanceLink(VariableNode(\"$xpeople\"), human)\n",
    "    >>> humans = GetLink(variable_link, patt)    \n",
    "    >>> satisfying_set(atsp, humans) # test for the pattern matcher\n",
    "    (SetLink\n",
    "      (ConceptNode \"Minilik\") ; [...][...]\n",
    "      (ConceptNode \"Tayitu\") ; [...][...]\n",
    "    ) ; [...][...]\n",
    "    <BLANKLINE>\n",
    "    \"\"\"\n",
    "    pass"
   ]
  },
  {
   "cell_type": "markdown",
   "metadata": {},
   "source": [
    "# Pattern Matching\n",
    "\n",
    "Now lets look at how we can run the PM through python. The PM functions are defined in c++ and made available in python through wrappers that are defined in atomspace/opencog/cython/opencog/bindlink.pyx and you can see the imports in *atomspace/opencog/cython/opencog/bindlink.pxd*\n",
    "\n",
    "Here we will again run the equivalent of *bindlink* and *cog-staisfying-set* functions in scheme."
   ]
  },
  {
   "cell_type": "code",
   "execution_count": 375,
   "metadata": {
    "collapsed": false
   },
   "outputs": [],
   "source": [
    "#Import the satisfying_set function\n",
    "from opencog.bindlink import satisfying_set"
   ]
  },
  {
   "cell_type": "code",
   "execution_count": 376,
   "metadata": {
    "collapsed": true
   },
   "outputs": [],
   "source": [
    "#Delete existing atoms\n",
    "atsp.clear()\n",
    "#NOTE that the atoms are deleted only from atsp not from the entire python environment. "
   ]
  },
  {
   "cell_type": "code",
   "execution_count": 377,
   "metadata": {
    "collapsed": false
   },
   "outputs": [
    {
     "data": {
      "text/plain": [
       "(InheritanceLink\n",
       "  (ConceptNode \"Blue\") ; [3109877522812845760][48]\n",
       "  (ConceptNode \"Color\") ; [8429248309562626666][48]\n",
       ") ; [10211166656246673930][48]"
      ]
     },
     "execution_count": 377,
     "metadata": {},
     "output_type": "execute_result"
    }
   ],
   "source": [
    "#Create some atoms\n",
    "InheritanceLink(ConceptNode(\"Red\"), color)\n",
    "InheritanceLink(ConceptNode(\"Green\"), color)\n",
    "InheritanceLink(ConceptNode(\"Blue\"), color)"
   ]
  },
  {
   "cell_type": "code",
   "execution_count": 378,
   "metadata": {
    "collapsed": true
   },
   "outputs": [],
   "source": [
    "#Create a pattern to look for color nodes\n",
    "varlink = TypedVariableLink(VariableNode(\"$xcol\"), TypeNode(\"ConceptNode\"))\n",
    "pattern = InheritanceLink(VariableNode(\"$xcol\"), color)\n",
    "colornodes = GetLink(varlink, pattern)"
   ]
  },
  {
   "cell_type": "code",
   "execution_count": 379,
   "metadata": {
    "collapsed": false
   },
   "outputs": [
    {
     "data": {
      "text/plain": [
       "(SetLink\n",
       "  (ConceptNode \"Blue\") ; [3109877522812845760][48]\n",
       "  (ConceptNode \"Red\") ; [6709592507294448610][48]\n",
       "  (ConceptNode \"Green\") ; [7362812596333203375][48]\n",
       ") ; [17576040149376550613][48]"
      ]
     },
     "execution_count": 379,
     "metadata": {},
     "output_type": "execute_result"
    }
   ],
   "source": [
    "#Now run the function to find all color nodes\n",
    "satisfying_set(atsp, colornodes)"
   ]
  },
  {
   "cell_type": "markdown",
   "metadata": {},
   "source": [
    "In a similar manner you can import *bindlink* from *opencog.bindlink* and use it to execute rewrite queries (with the help of *BindLink* in place of *SatisfactionLink*)"
   ]
  },
  {
   "cell_type": "code",
   "execution_count": 380,
   "metadata": {
    "collapsed": false
   },
   "outputs": [],
   "source": [
    "import doctest"
   ]
  },
  {
   "cell_type": "code",
   "execution_count": 381,
   "metadata": {
    "collapsed": false
   },
   "outputs": [
    {
     "name": "stdout",
     "output_type": "stream",
     "text": [
      "Trying:\n",
      "    man\n",
      "Expecting:\n",
      "    (ConceptNode \"Man\") ; [...][...]\n",
      "    <BLANKLINE>\n",
      "ok\n",
      "Trying:\n",
      "    atsp.add_link(types.InheritanceLink, [man, animal])\n",
      "Expecting:\n",
      "    (InheritanceLink\n",
      "      (ConceptNode \"Man\") ; [...][...]\n",
      "      (ConceptNode \"Animal\") ; [...][...]\n",
      "    ) ; [...][...]\n",
      "    <BLANKLINE>\n",
      "ok\n",
      "Trying:\n",
      "    man\n",
      "Expecting:\n",
      "    (ConceptNode \"Man\") ; [...][...]\n",
      "    <BLANKLINE>\n",
      "ok\n",
      "Trying:\n",
      "    human = atsp.add_node(types.ConceptNode, \"human being\") \n",
      "Expecting nothing\n",
      "ok\n",
      "Trying:\n",
      "    human # test for the c++ like syntax\n",
      "Expecting:\n",
      "    (ConceptNode \"human being\") ; [...][...]\n",
      "    <BLANKLINE>\n",
      "ok\n",
      "Trying:\n",
      "    InheritanceLink(ConceptNode(\"Minilik\"), human) # test for the scheme like syntax\n",
      "Expecting:\n",
      "    (InheritanceLink\n",
      "      (ConceptNode \"Minilik\") ; [...][...]\n",
      "      (ConceptNode \"human being\") ; [...][...]\n",
      "    ) ; ...\n",
      "    <BLANKLINE>\n",
      "ok\n",
      "Trying:\n",
      "    InheritanceLink(atsp.add_node(types.ConceptNode, \"Tayitu\"), human) # test for the combination of the two syntaxs\n",
      "Expecting:\n",
      "    (InheritanceLink\n",
      "      (ConceptNode \"Tayitu\") ; [...][...]\n",
      "      (ConceptNode \"human being\") ; [...][...]\n",
      "    ) ; [...][...]\n",
      "    <BLANKLINE>\n",
      "ok\n",
      "Trying:\n",
      "    variable_link = TypedVariableLink(VariableNode(\"$xpeople\"), TypeNode(\"ConceptNode\"))\n",
      "Expecting nothing\n",
      "ok\n",
      "Trying:\n",
      "    patt = InheritanceLink(VariableNode(\"$xpeople\"), human)\n",
      "Expecting nothing\n",
      "ok\n",
      "Trying:\n",
      "    humans = GetLink(variable_link, patt)    \n",
      "Expecting nothing\n",
      "ok\n",
      "Trying:\n",
      "    satisfying_set(atsp, humans) # test for the pattern matcher\n",
      "Expecting:\n",
      "    (SetLink\n",
      "      (ConceptNode \"Minilik\") ; [...][...]\n",
      "      (ConceptNode \"Tayitu\") ; [...][...]\n",
      "    ) ; [...][...]\n",
      "    <BLANKLINE>\n",
      "ok\n",
      "1 items had no tests:\n",
      "    __main__\n",
      "3 items passed all tests:\n",
      "   2 tests in __main__.cplusplus_like_syntax\n",
      "   1 tests in __main__.cplusplus_like_task\n",
      "   8 tests in __main__.test_AIO\n",
      "11 tests in 4 items.\n",
      "11 passed and 0 failed.\n",
      "Test passed.\n"
     ]
    },
    {
     "data": {
      "text/plain": [
       "TestResults(failed=0, attempted=11)"
      ]
     },
     "execution_count": 381,
     "metadata": {},
     "output_type": "execute_result"
    }
   ],
   "source": [
    "doctest.testmod(verbose=True, optionflags=doctest.ELLIPSIS)"
   ]
  },
  {
   "cell_type": "code",
   "execution_count": null,
   "metadata": {
    "collapsed": true
   },
   "outputs": [],
   "source": []
  },
  {
   "cell_type": "code",
   "execution_count": null,
   "metadata": {
    "collapsed": true
   },
   "outputs": [],
   "source": []
  },
  {
   "cell_type": "code",
   "execution_count": null,
   "metadata": {
    "collapsed": true
   },
   "outputs": [],
   "source": []
  }
 ],
 "metadata": {
  "kernelspec": {
   "display_name": "Python 3",
   "language": "python",
   "name": "python3"
  },
  "language_info": {
   "codemirror_mode": {
    "name": "ipython",
    "version": 3
   },
   "file_extension": ".py",
   "mimetype": "text/x-python",
   "name": "python",
   "nbconvert_exporter": "python",
   "pygments_lexer": "ipython3",
   "version": "3.5.2"
  }
 },
 "nbformat": 4,
 "nbformat_minor": 2
}
