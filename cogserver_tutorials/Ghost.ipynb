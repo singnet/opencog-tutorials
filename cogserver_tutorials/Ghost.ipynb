{
 "cells": [
  {
   "cell_type": "markdown",
   "metadata": {},
   "source": [
    "# GHOST\n",
    "\n",
    "GHOST (General Holistic Organism Scripting Tool) is a DSL (Domain-Specific Language) designed to allow human authors to script behaviors for artificial characters. GHOST is inspired by ChatScript in its syntax, it uses ECAN to guide the context formation and rule discovery processes, OpenPsi for internal dynamics modulation and goal-driven rule (action) selection, as well as various other OpenCog cognitive algorithms for handling a wider range of situations in more flexible and intelligent ways.\n",
    "\n",
    "For the sake of simplicity, in this tutorial we don't consider rule's STI so we don't require ECAN running to update STI of GHOST rules. First of all, tell guile where it can find opencog stuff. You might want to add the following line to your .guile so it will do it at startup."
   ]
  },
  {
   "cell_type": "markdown",
   "metadata": {},
   "source": [
    "First of all, tell guile where it can find opencog stuff. You might want to add the following line to your .guile so it will do it at startup."
   ]
  },
  {
   "cell_type": "code",
   "execution_count": 2,
   "metadata": {},
   "outputs": [],
   "source": [
    "(add-to-load-path \"/usr/local/share/opencog/scm\")"
   ]
  },
  {
   "cell_type": "markdown",
   "metadata": {},
   "source": [
    "Now load all required modules (this step can take 1-2 minutes when you run the tutorial for the first time)."
   ]
  },
  {
   "cell_type": "code",
   "execution_count": 3,
   "metadata": {},
   "outputs": [],
   "source": [
    "(use-modules (opencog)\n",
    "             (opencog attention)\n",
    "             (opencog nlp)\n",
    "             (opencog nlp relex2logic)\n",
    "             (opencog openpsi)\n",
    "             (opencog ghost)\n",
    "             (opencog ghost procedures))"
   ]
  },
  {
   "cell_type": "markdown",
   "metadata": {},
   "source": [
    "Because this tutorial is running in a Docker-based deployment, we need to make this call to find out the IP of the Relex server."
   ]
  },
  {
   "cell_type": "code",
   "execution_count": 4,
   "metadata": {},
   "outputs": [
    {
     "data": {
      "text/plain": [
       "\"172.20.0.2\""
      ]
     },
     "execution_count": 4,
     "metadata": {},
     "output_type": "execute_result"
    }
   ],
   "source": [
    "(set-relex-server-host)"
   ]
  },
  {
   "cell_type": "markdown",
   "metadata": {},
   "source": [
    "Although we are not using ECAN, we use ECAN-based syntax for rules."
   ]
  },
  {
   "cell_type": "code",
   "execution_count": 5,
   "metadata": {},
   "outputs": [],
   "source": [
    "(ecan-based-ghost-rules #t)"
   ]
  },
  {
   "cell_type": "markdown",
   "metadata": {},
   "source": [
    "Enable GHOST to consider any rules regardless its importance (this is required because we are not using ECAN)."
   ]
  },
  {
   "cell_type": "code",
   "execution_count": 6,
   "metadata": {},
   "outputs": [],
   "source": [
    "(ghost-af-only #f)"
   ]
  },
  {
   "cell_type": "markdown",
   "metadata": {},
   "source": [
    "Now we're ready to input our rules. This is where your creativity will make the difference. The quality of the rule set is the most important thing to have interesting results with GHOST. You can enter your rules one by one using (ghost-parse) commands or use (ghost-parse-files) to parse rule files. In this tutorial we use a single rules entered manually. To parse one or more files you shaw use:\n",
    "\n",
    "(ghost-parse-files \"path/to/the/rule/file1\" \"path/to/the/rule/file2\")"
   ]
  },
  {
   "cell_type": "code",
   "execution_count": 7,
   "metadata": {},
   "outputs": [],
   "source": [
    "(ghost-parse \"#goal: (novelty=0.24) u: (eat apple) I want an apple\")"
   ]
  },
  {
   "cell_type": "markdown",
   "metadata": {},
   "source": [
    "After all rules are set up, start GHOST"
   ]
  },
  {
   "cell_type": "code",
   "execution_count": 8,
   "metadata": {},
   "outputs": [
    {
     "data": {
      "text/plain": [
       "#<thread 140079621945088 (23b0a80)"
      ]
     },
     "execution_count": 8,
     "metadata": {},
     "output_type": "execute_result"
    }
   ],
   "source": [
    "(ghost-run)"
   ]
  },
  {
   "cell_type": "markdown",
   "metadata": {},
   "source": [
    "At this point, you can enter utterances and see what ouputs GHOST will provide based on the set of rules you entered previously. In our tutorial we have only one simple rule, so let's try the following utterance."
   ]
  },
  {
   "cell_type": "code",
   "execution_count": 9,
   "metadata": {},
   "outputs": [
    {
     "data": {
      "text/plain": [
       "((WordNode \"I\")\n",
       " (WordNode \"want\")\n",
       " (WordNode \"an\")\n",
       " (WordNode \"apple\")\n",
       ")"
      ]
     },
     "execution_count": 9,
     "metadata": {},
     "output_type": "execute_result"
    }
   ],
   "source": [
    "(ghost \"I eat apples\")"
   ]
  },
  {
   "cell_type": "code",
   "execution_count": 10,
   "metadata": {},
   "outputs": [
    {
     "data": {
      "text/plain": [
       "((WordNode \"I\")\n",
       " (WordNode \"want\")\n",
       " (WordNode \"an\")\n",
       " (WordNode \"apple\")\n",
       ")"
      ]
     },
     "execution_count": 10,
     "metadata": {},
     "output_type": "execute_result"
    }
   ],
   "source": [
    "(ghost-get-result)"
   ]
  }
 ],
 "metadata": {
  "kernelspec": {
   "display_name": "Guile",
   "language": "scheme",
   "name": "guile-kernel"
  },
  "language_info": {
   "codemirror_mode": "scheme",
   "file_extension": ".scm",
   "mimetype": "application/x-scheme",
   "name": "guile",
   "pygments_lexer": "scheme",
   "version": "2.0.0"
  }
 },
 "nbformat": 4,
 "nbformat_minor": 1
}
