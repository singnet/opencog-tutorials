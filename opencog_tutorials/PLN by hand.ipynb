{
 "cells": [
  {
   "cell_type": "markdown",
   "metadata": {},
   "source": [
    "# PLN BY HAND"
   ]
  },
  {
   "cell_type": "markdown",
   "metadata": {},
   "source": [
    "### PLN Example\n",
    "Note: we assume you are starting in your home directory - to get there type $ cd ~\n",
    "\n",
    "\n",
    "From the command prompt, enter the scheme environment by typing: $ guile\n",
    "\n",
    "\n",
    "Load the required modules (as you are running from the scheme environment):"
   ]
  },
  {
   "cell_type": "code",
   "execution_count": 4,
   "metadata": {
    "collapsed": false
   },
   "outputs": [
    {
     "data": {
      "text/plain": [
       "#<unspecified>"
      ]
     },
     "execution_count": 4,
     "metadata": {},
     "output_type": "execute_result"
    }
   ],
   "source": [
    "(use-modules (ice-9 readline)) \n",
    "(activate-readline)\n",
    "(add-to-load-path \"/usr/local/share/opencog/scm\")\n",
    "(add-to-load-path \".\")\n",
    "(use-modules (opencog))\n",
    "(use-modules (opencog query))\n",
    "(use-modules (opencog exec))\n",
    "(use-modules (opencog logger))"
   ]
  },
  {
   "cell_type": "markdown",
   "metadata": {},
   "source": [
    "(Note you may have to change the paths to the files to suit your installation) Load the deduction rule definitions - type the following 'load' commands for both deduction-rule.scm and simple-assertions.scm"
   ]
  },
  {
   "cell_type": "markdown",
   "metadata": {},
   "source": [
    "Load the default deduction rules: (load \"./opencog/opencog/opencog/pln/rules/term/deduction.scm\") <- this contains the 'deduction-inheritance-rule' function used later in this tutorial"
   ]
  },
  {
   "cell_type": "markdown",
   "metadata": {},
   "source": [
    "(For Notebook Purposes) We first Load formulas.scm, as per the code in deduction.scm. On plane guile feel free to load the deduction.scm, as is,from the above path."
   ]
  },
  {
   "cell_type": "code",
   "execution_count": 5,
   "metadata": {
    "collapsed": false
   },
   "outputs": [
    {
     "data": {
      "text/plain": [
       "#<unspecified>"
      ]
     },
     "execution_count": 5,
     "metadata": {},
     "output_type": "execute_result"
    }
   ],
   "source": [
    ";; =============================================================================\n",
    ";; A list of the helper functions necessary in different inference rules\n",
    ";; -----------------------------------------------------------------------------\n",
    ";; Index\n",
    ";; - simple-deduction-strength-formula\n",
    ";; - inversion-strength-formula\n",
    ";;------------------------------------------------------------------------------\n",
    "\n",
    ";; =============================================================================\n",
    ";; Simple Deduction Formula\n",
    ";;\n",
    ";; Preconditions:\n",
    ";;\n",
    ";;   1. Check that P(B|A) makes sense\n",
    ";;\n",
    ";;      1.a. P(B|A) is defined\n",
    ";;\n",
    ";;         0.0 < sA\n",
    ";;\n",
    ";;      1.b. P(B|A) is greater than or equal to P(A,B)/P(A) considering\n",
    ";;      the smallest possible intersection between A and B\n",
    ";;\n",
    ";;         max((sA+sB-1)/sA, 0) <= sAB\n",
    ";;\n",
    ";;      1.c. P(B|A) is smaller than P(A,B)/P(A) considering the largest\n",
    ";;      possible intersection between A and B\n",
    ";;\n",
    ";;         sAB <= min(1, sB/sA)\n",
    ";;\n",
    ";;   2. Check that P(C|B) makes sense\n",
    ";;\n",
    ";;      1.a. P(C|B) is defined\n",
    ";;\n",
    ";;         0.0 < sB\n",
    ";;\n",
    ";;      1.b. P(C|B) is greater than P(B,C)/P(B) considering the\n",
    ";;      smallest possible intersection between B and C\n",
    ";;\n",
    ";;         max((sB+sC-1)/sB, 0) <= sBC\n",
    ";;\n",
    ";;      1.c. P(C|B) is greater than P(B,C)/P(B) considering the\n",
    ";;      largest possible intersection between B and C\n",
    ";;\n",
    ";;         sBC <= min(1, sC/sB)\n",
    ";;\n",
    ";; Calculation:\n",
    ";;\n",
    ";;   sAC = [sAB.sBC + ((1-sAB)(sC - sBsBC))/(1-sB)]\n",
    ";;\n",
    ";; To avoid division by 0 (which the preconditions do not necessarily\n",
    ";; prevent), i.e. when sB tends to 1 we find that\n",
    ";;\n",
    ";;   sAC tends to sC\n",
    ";;\n",
    ";; Indeed, in such case sAB tends to sB and sBC tends to sC. As a\n",
    ";; result (according to the main formula above) sAC tends to\n",
    ";;\n",
    ";;   sB.sC + ((1-sB)(sC - sBsC))/(1-sB) = sB.sC + (sC - sB.sC) = sC\n",
    ";;\n",
    ";; If the preconditions are not met it returns sAC = 0, although\n",
    ";; honnestly the deduction rule should not have been applied in the\n",
    ";; first place.\n",
    ";; -----------------------------------------------------------------------------\n",
    "\n",
    "\n",
    ";; Limit an number to be within a certain range\n",
    "(define (limit x l u)\n",
    "  (max l (min u x)))\n",
    "\n",
    "; Consistency Conditions\n",
    "(define (smallest-intersection-probability sA sB)\n",
    "  (limit (/ (+ sA sB -1) sA) 0 1))\n",
    "\n",
    "(define (largest-intersection-probability sA sB)\n",
    "  (limit (/ sB sA) 0 1))\n",
    "\n",
    "(define (conditional-probability-consistency sA sB sAB)\n",
    "  (and (< 0 sA)\n",
    "       (<= (smallest-intersection-probability sA sB) sAB)\n",
    "       (<= sAB (largest-intersection-probability sA sB))))\n",
    "\n",
    "; Main Formula\n",
    "\n",
    "(define (simple-deduction-strength-formula sA sB sC sAB sBC)\n",
    "  (if\n",
    "     (and\n",
    "        (conditional-probability-consistency sA sB sAB)\n",
    "        (conditional-probability-consistency sB sC sBC))\n",
    "     ;; Preconditions are met\n",
    "     (if (< 0.99 sB)\n",
    "        ;; sB tends to 1\n",
    "        sC\n",
    "        ;; otherwise\n",
    "        (+ (* sAB sBC) (/ (* (- 1 sAB) (- sC (* sB sBC))) (- 1 sB))))\n",
    "     ;; Preconditions are not met\n",
    "     0))\n",
    "\n",
    ";; =============================================================================\n",
    ";; Inversion Formula\n",
    ";;\n",
    ";; Preconditions:\n",
    ";;\n",
    ";;   1. Check that P(B|A) makes sense\n",
    ";;\n",
    ";;      1.a. P(B|A) is defined\n",
    ";;\n",
    ";;         0.0 < sA\n",
    ";;\n",
    ";;      1.b. P(B|A) is greater than or equal to P(A,B)/P(A) considering\n",
    ";;      the smallest possible intersection between A and B\n",
    ";;\n",
    ";;         max((sA+sB-1)/sA, 0) <= sAB\n",
    ";;\n",
    ";;      1.c. P(B|A) is smaller than P(A,B)/P(A) considering the largest\n",
    ";;      possible intersection between A and B\n",
    ";;\n",
    ";;         sAB <= min(1, sB/sA)\n",
    ";;\n",
    ";;   2. Check that P(A|B) makes sense\n",
    ";;\n",
    ";;      1. P(A|B) is defined\n",
    ";;\n",
    ";;         0.0 < sB\n",
    ";;\n",
    ";;         And that is all, ultimately the calculation should result\n",
    ";;         into a consistent sBA (or let's hope so).\n",
    ";;\n",
    ";; Calculation:\n",
    ";;\n",
    ";;   sBA = (sAB * sB) / sA\n",
    ";;\n",
    ";; -----------------------------------------------------------------------------\n",
    "\n",
    "(define (inversion-consistency sA sB sAB)\n",
    "  (and (< 0 sA)\n",
    "       (< 0 sB)\n",
    "       (<= (smallest-intersection-probability sA sB) sAB)\n",
    "       (<= sAB (largest-intersection-probability sA sB))))\n",
    "\n",
    "(define (inversion-strength-formula sA sB sAB)\n",
    "  (if (inversion-consistency sA sB sAB)\n",
    "      (/ (* sAB sA) sB)\n",
    "      0))\n",
    "\n",
    ";; =============================================================================\n",
    ";; Invert formula\n",
    ";;\n",
    ";; Inverts the input\n",
    ";; -----------------------------------------------------------------------------\n",
    "\n",
    "(define (invert a)\n",
    "    (/ 1.0 a))\n",
    "\n",
    ";; =============================================================================\n",
    ";; Negate formula\n",
    ";;\n",
    ";; Negates the probability\n",
    ";; -----------------------------------------------------------------------------\n",
    "\n",
    "(define (negate a)\n",
    "    (- 1 a))\n",
    "\n",
    ";; =============================================================================\n",
    ";; Transitive Similarity Formula\n",
    ";;\n",
    ";; Returns the strength value of the transitive similarity rule\n",
    ";; -----------------------------------------------------------------------------\n",
    "\n",
    "(define (transitive-similarity-strength-formula sA sB sC sAB sBC )\n",
    "    (let\n",
    "        ((T1 (/ (* (+ 1 (/ sB sA)) (sAB)) (+ 1 sAB)))\n",
    "         (T2 (/ (* (+ 1 (/ sC sB)) (sBC)) (+ 1 sBC)))\n",
    "         (T3 (/ (* (+ 1 (/ sB sC)) (sBC)) (+ 1 sBC)))\n",
    "         (T4 (/ (* (+ 1 (/ sA sB)) (sAB)) (+ 1 sAB))))\n",
    "        (invert (- (+ (invert (+ (* T1 T2) (* (negate T1) (/ (- sC (* sB T2)) (negate sB)))))\n",
    "                      (invert (+ (* T3 T4) (* (negate T3) (/ (- sC (* sB T4)) (negate sB)))))) 1))))\n",
    "\n",
    ";; =============================================================================\n",
    ";; PreciseModusPonens formula\n",
    ";;\n",
    ";; Returns the strength value of the precise modus ponens rule\n",
    ";; -----------------------------------------------------------------------------\n",
    "\n",
    "(define (precise-modus-ponens-strength-formula sA sAB snotAB)\n",
    "    (+ (* sAB sA) (* snotAB (negate sA))))\n"
   ]
  },
  {
   "cell_type": "code",
   "execution_count": 6,
   "metadata": {
    "collapsed": false
   },
   "outputs": [
    {
     "data": {
      "text/plain": [
       "#<unspecified>"
      ]
     },
     "execution_count": 6,
     "metadata": {},
     "output_type": "execute_result"
    }
   ],
   "source": [
    ";; =============================================================================\n",
    ";; DeductionRule\n",
    ";;\n",
    ";; <LinkType>\n",
    ";;   A\n",
    ";;   B\n",
    ";; <LinkType>\n",
    ";;   B\n",
    ";;   C\n",
    ";; |-\n",
    ";; <LinkType>\n",
    ";;   A\n",
    ";;   C\n",
    ";;\n",
    ";; Due to type system limitations, the rule has been divided into 3:\n",
    ";;       deduction-inheritance-rule\n",
    ";;       deduction-implication-rule\n",
    ";;       deduction-subset-rule\n",
    ";;\n",
    ";; This deduction rule makes assumptions to avoid having too many\n",
    ";; premises. Another more precise rule should be created as well.\n",
    ";;\n",
    ";; -----------------------------------------------------------------------------\n",
    "\n",
    ";; Generate the corresponding deduction rule given its link-type and\n",
    ";; the type for each variable (the same for all 3).\n",
    "(define (gen-deduction-rule link-type var-type)\n",
    "  (let* ((A (Variable \"$A\"))\n",
    "         (B (Variable \"$B\"))\n",
    "         (C (Variable \"$C\"))\n",
    "         (AB (link-type A B))\n",
    "         (BC (link-type B C))\n",
    "         (AC (link-type A C)))\n",
    "    (Bind\n",
    "      (VariableList\n",
    "        (TypedVariable A var-type)\n",
    "        (TypedVariable B var-type)\n",
    "        (TypedVariable C var-type))\n",
    "      (And\n",
    "        AB\n",
    "        BC\n",
    "        (Not (Identical A C)))\n",
    "      (ExecutionOutput\n",
    "        (GroundedSchema \"scm: deduction-formula\")\n",
    "        (List\n",
    "          ;; Conclusion\n",
    "          AC\n",
    "          ;; Premises\n",
    "          ;;\n",
    "          ;; TODO: perhaps A, B, C should be added as premises as\n",
    "          ;; they are used in the formula.\n",
    "          AB\n",
    "          BC)))))\n",
    "\n",
    "(define deduction-inheritance-rule\n",
    "  (let ((var-type (TypeChoice\n",
    "                    (TypeNode \"ConceptNode\")\n",
    "                    (TypeNode \"AndLink\")\n",
    "                    (TypeNode \"OrLink\")\n",
    "                    (TypeNode \"NotLink\"))))\n",
    "    (gen-deduction-rule InheritanceLink var-type)))\n",
    "\n",
    "(define deduction-implication-rule\n",
    "  (let ((var-type (TypeChoice\n",
    "                    (TypeNode \"PredicateNode\")\n",
    "                    (TypeNode \"LambdaLink\")\n",
    "                    (TypeNode \"AndLink\")\n",
    "                    (TypeNode \"OrLink\")\n",
    "                    (TypeNode \"NotLink\"))))\n",
    "    (gen-deduction-rule ImplicationLink var-type)))\n",
    "\n",
    "(define deduction-subset-rule\n",
    "  (let ((var-type (TypeChoice\n",
    "                    (TypeNode \"ConceptNode\")\n",
    "                    (TypeNode \"AndLink\")\n",
    "                    (TypeNode \"OrLink\")\n",
    "                    (TypeNode \"NotLink\"))))\n",
    "    (gen-deduction-rule SubsetLink var-type)))\n",
    "\n",
    "(define (deduction-formula conclusion . premises)\n",
    "  (if (= (length premises) 2)\n",
    "    (let*\n",
    "        ((AC conclusion)\n",
    "         (AB (list-ref premises 0))\n",
    "         (BC (list-ref premises 1))\n",
    "         (sA (cog-stv-strength (gar AB)))\n",
    "         (cA (cog-stv-confidence (gar AB)))\n",
    "         (sB (cog-stv-strength (gar BC)))\n",
    "         (cB (cog-stv-confidence (gar BC)))\n",
    "         (sC (cog-stv-strength (gdr BC)))\n",
    "         (cC (cog-stv-confidence (gdr BC)))\n",
    "         (sAB (cog-stv-strength AB))\n",
    "         (cAB (cog-stv-confidence AB))\n",
    "         (sBC (cog-stv-strength BC))\n",
    "         (cBC (cog-stv-confidence BC))\n",
    "         (alpha 0.9) ; how much confidence is lost at each deduction step\n",
    "\n",
    "         ;; Hacks to overcome the lack of distributional TV. If s=1\n",
    "         ;; and c=0, then assign s to the mode value satisfying the\n",
    "         ;; deduction consistency constraint (what a pain, let's use\n",
    "         ;; 0.25 for now).\n",
    "         (sA (if (and (< 0.99 sA) (<= cA 0)) 0.25 sA))\n",
    "         (sB (if (and (< 0.99 sB) (<= cB 0)) 0.25 sB))\n",
    "         (sC (if (and (< 0.99 sC) (<= cC 0)) 0.25 sC)))\n",
    "      (if (and\n",
    "           (or (= 0 cA) (= 0 cB) (= 0 cAB)\n",
    "               (conditional-probability-consistency sA sB sAB))\n",
    "           (or (= 0 cB) (= 0 cC) (= 0 cBC)\n",
    "               (conditional-probability-consistency sB sC sBC)))\n",
    "          (if (< 0.99 (* sB cB))\n",
    "              ;; Hack to overcome for the lack of distributional\n",
    "              ;; TV. This covers the case where B fully confidently\n",
    "              ;; tends to 1. See formulas.scm Simple Deduction\n",
    "              ;; Formula comment for more explanations. This\n",
    "              ;; overlaps with the implication-introduction-rule.\n",
    "              (let ((sAC sC)\n",
    "                    (cAC (* alpha cA cC)))\n",
    "                (if (and (< 1e-8 sAC) (< 1e-8 cAC)) ;; Don't create zero\n",
    "                                              ;; knowledge. Note that\n",
    "                                              ;; sAC == 0 is not zero\n",
    "                                              ;; knowledge but it's\n",
    "                                              ;; annoying in the\n",
    "                                              ;; current hacky\n",
    "                                              ;; situation.\n",
    "                    (cog-merge-hi-conf-tv! AC (stv sAC cAC))))\n",
    "              ;; Branch if sB * cB <= 0.99\n",
    "              (let* ((sAC (if (or (< 0.99 (* sAB cAB)) (< 0.99 (* sBC cBC)))\n",
    "                              ;; Hack to overcome for the lack of\n",
    "                              ;; distributional TV. This covers the case\n",
    "                              ;; where little is known about A and B\n",
    "                              ;; (i.e. their strength is meaningless), yet\n",
    "                              ;; we can confidently calculate sAC because\n",
    "                              ;; sAB and sBC are so high anyway.\n",
    "                              (* sAB sBC)\n",
    "                              ;; Otherwise fall back on the naive formula\n",
    "                              (simple-deduction-strength-formula sA sB sC sAB sBC)))\n",
    "                     (cAC (min cAB cBC))\n",
    "                     ;; Unless the 2 implication are fully confident\n",
    "                     ;; decrease the confidence by some factor. I'm not\n",
    "                     ;; sure how justify this for now, it's perhaps a\n",
    "                     ;; bad hack.\n",
    "                     (cAC (* (if (< cAC 0.99) alpha 1.0) cAC)))\n",
    "                (if (and (< 1e-8 sAC) (< 1e-8 cAC)) ;; Don't create zero\n",
    "                                              ;; knowledge. Note that\n",
    "                                              ;; sAC == 0 is not zero\n",
    "                                              ;; knowledge but it's\n",
    "                                              ;; annoying in the\n",
    "                                              ;; current hacky\n",
    "                                              ;; situation.\n",
    "                    (cog-merge-hi-conf-tv! AC (stv sAC cAC)))))))))\n",
    "\n",
    ";; Name the rules\n",
    "(define deduction-inheritance-rule-name\n",
    "  (DefinedSchemaNode \"deduction-inheritance-rule\"))\n",
    "(DefineLink deduction-inheritance-rule-name\n",
    "  deduction-inheritance-rule)\n",
    "\n",
    "(define deduction-implication-rule-name\n",
    "  (DefinedSchemaNode \"deduction-implication-rule\"))\n",
    "(DefineLink deduction-implication-rule-name\n",
    "  deduction-implication-rule)\n",
    "\n",
    "(define deduction-subset-rule-name\n",
    "  (DefinedSchemaNode \"deduction-subset-rule\"))\n"
   ]
  },
  {
   "cell_type": "code",
   "execution_count": 7,
   "metadata": {
    "collapsed": false
   },
   "outputs": [
    {
     "data": {
      "text/plain": [
       "(DefineLink\n",
       "   (DefinedSchemaNode \"deduction-subset-rule\")\n",
       "   (BindLink\n",
       "      (VariableList\n",
       "         (TypedVariableLink\n",
       "            (VariableNode \"$A\")\n",
       "            (TypeChoice\n",
       "               (TypeNode \"ConceptNode\")\n",
       "               (TypeNode \"AndLink\")\n",
       "               (TypeNode \"OrLink\")\n",
       "               (TypeNode \"NotLink\")\n",
       "            )\n",
       "         )\n",
       "         (TypedVariableLink\n",
       "            (VariableNode \"$B\")\n",
       "            (TypeChoice\n",
       "               (TypeNode \"ConceptNode\")\n",
       "               (TypeNode \"AndLink\")\n",
       "               (TypeNode \"OrLink\")\n",
       "               (TypeNode \"NotLink\")\n",
       "            )\n",
       "         )\n",
       "         (TypedVariableLink\n",
       "            (VariableNode \"$C\")\n",
       "            (TypeChoice\n",
       "               (TypeNode \"ConceptNode\")\n",
       "               (TypeNode \"AndLink\")\n",
       "               (TypeNode \"OrLink\")\n",
       "               (TypeNode \"NotLink\")\n",
       "            )\n",
       "         )\n",
       "      )\n",
       "      (AndLink\n",
       "         (SubsetLink\n",
       "            (VariableNode \"$B\")\n",
       "            (VariableNode \"$C\")\n",
       "         )\n",
       "         (SubsetLink\n",
       "            (VariableNode \"$A\")\n",
       "            (VariableNode \"$B\")\n",
       "         )\n",
       "         (NotLink\n",
       "            (IdenticalLink\n",
       "               (VariableNode \"$A\")\n",
       "               (VariableNode \"$C\")\n",
       "            )\n",
       "         )\n",
       "      )\n",
       "      (ExecutionOutputLink\n",
       "         (GroundedSchemaNode \"scm: deduction-formula\")\n",
       "         (ListLink\n",
       "            (SubsetLink\n",
       "               (VariableNode \"$A\")\n",
       "               (VariableNode \"$C\")\n",
       "            )\n",
       "            (SubsetLink\n",
       "               (VariableNode \"$A\")\n",
       "               (VariableNode \"$B\")\n",
       "            )\n",
       "            (SubsetLink\n",
       "               (VariableNode \"$B\")\n",
       "               (VariableNode \"$C\")\n",
       "            )\n",
       "         )\n",
       "      )\n",
       "   )\n",
       ")\n"
      ]
     },
     "execution_count": 7,
     "metadata": {},
     "output_type": "execute_result"
    }
   ],
   "source": [
    "(DefineLink deduction-subset-rule-name\n",
    "  deduction-subset-rule)"
   ]
  },
  {
   "cell_type": "markdown",
   "metadata": {},
   "source": [
    "# (DefineLink\n",
    "   (DefinedSchemaNode \"deduction-subset-rule\")\n",
    "   (BindLink\n",
    "      (VariableList\n",
    "         (TypedVariableLink\n",
    "            (VariableNode \"$A\")\n",
    "            (TypeChoice\n",
    "               (TypeNode \"ConceptNode\")\n",
    "               (TypeNode \"AndLink\")\n",
    "               (TypeNode \"OrLink\")\n",
    "               (TypeNode \"NotLink\")\n",
    "            )\n",
    "         )\n",
    "         (TypedVariableLink\n",
    "            (VariableNode \"$B\")\n",
    "            (TypeChoice\n",
    "               (TypeNode \"ConceptNode\")\n",
    "               (TypeNode \"AndLink\")\n",
    "               (TypeNode \"OrLink\")\n",
    "               (TypeNode \"NotLink\")\n",
    "            )\n",
    "         )\n",
    "         (TypedVariableLink\n",
    "            (VariableNode \"$C\")\n",
    "            (TypeChoice\n",
    "               (TypeNode \"ConceptNode\")\n",
    "               (TypeNode \"AndLink\")\n",
    "               (TypeNode \"OrLink\")\n",
    "               (TypeNode \"NotLink\")\n",
    "            )\n",
    "         )\n",
    "      )\n",
    "      (AndLink\n",
    "         (SubsetLink\n",
    "            (VariableNode \"$B\")\n",
    "            (VariableNode \"$C\")\n",
    "         )\n",
    "         (SubsetLink\n",
    "            (VariableNode \"$A\")\n",
    "            (VariableNode \"$B\")\n",
    "         )\n",
    "         (NotLink\n",
    "            (IdenticalLink\n",
    "               (VariableNode \"$A\")\n",
    "               (VariableNode \"$C\")\n",
    "            )\n",
    "         )\n",
    "      )\n",
    "      (ExecutionOutputLink\n",
    "         (GroundedSchemaNode \"scm: deduction-formula\")\n",
    "         (ListLink\n",
    "            (SubsetLink\n",
    "               (VariableNode \"$A\")\n",
    "               (VariableNode \"$C\")\n",
    "            )\n",
    "            (SubsetLink\n",
    "               (VariableNode \"$A\")\n",
    "               (VariableNode \"$B\")\n",
    "            )\n",
    "            (SubsetLink\n",
    "               (VariableNode \"$B\")\n",
    "               (VariableNode \"$C\")\n",
    "            )\n",
    "         )\n",
    "      )\n",
    "   )\n",
    ")"
   ]
  },
  {
   "cell_type": "markdown",
   "metadata": {},
   "source": [
    "Load this file containing custom functions to query the atomspace:(load \"./opencog/tests/pln/rules/simple-assertions.scm\")<- this contains the 'find-humans' function used later in this tutorial"
   ]
  },
  {
   "cell_type": "code",
   "execution_count": 8,
   "metadata": {
    "collapsed": false
   },
   "outputs": [
    {
     "data": {
      "text/plain": [
       "#<unspecified>"
      ]
     },
     "execution_count": 8,
     "metadata": {},
     "output_type": "execute_result"
    }
   ],
   "source": [
    "; Define the concepts\n",
    "\n",
    "(ConceptNode \"Socrates\" (stv .001 0.9))\n",
    "(ConceptNode \"Einstein\" (stv .001 0.9))\n",
    "(ConceptNode \"Peirce\" (stv .001 0.9))\n",
    "(ConceptNode \"man\" (stv .01 0.9))\n",
    "(ConceptNode \"human\" (stv .02 0.9))\n",
    "\n",
    "; Define the instances of man\n",
    "\n",
    "(InheritanceLink (stv 0.9 0.9)\n",
    "    (ConceptNode \"Socrates\")\n",
    "    (ConceptNode \"man\"))\n",
    "\n",
    "(InheritanceLink (stv 0.9 0.9)\n",
    "    (ConceptNode \"Einstein\")\n",
    "    (ConceptNode \"man\"))\n",
    "\n",
    "(InheritanceLink (stv 0.9 0.9)\n",
    "    (ConceptNode \"Peirce\")\n",
    "    (ConceptNode \"man\"))\n",
    "\n",
    "; Define what man is part of\n",
    "\n",
    "(InheritanceLink (stv 0.9 0.9)\n",
    "    (ConceptNode \"man\")\n",
    "    (ConceptNode \"human\"))\n",
    "\n",
    "; Assign some additional memberships as well\n",
    "\n",
    "(InheritanceLink (stv 0.9 0.9)\n",
    "    (ConceptNode \"Einstein\")\n",
    "    (ConceptNode \"violin-players\"))\n",
    "\n",
    "; Pattern to match to check the output\n",
    "\n",
    "(define find-humans\n",
    "    (BindLink\n",
    "        (VariableNode \"$X\")\n",
    "        (InheritanceLink\n",
    "            (VariableNode \"$X\")\n",
    "            (ConceptNode \"human\"))\n",
    "        (ListLink\n",
    "            (VariableNode \"$X\"))))"
   ]
  },
  {
   "cell_type": "markdown",
   "metadata": {},
   "source": [
    "The command 'cog-execute! find-humans' queries all humans - go ahead and run it from the scheme (guile) prompt:"
   ]
  },
  {
   "cell_type": "code",
   "execution_count": 9,
   "metadata": {
    "collapsed": false
   },
   "outputs": [
    {
     "data": {
      "text/plain": [
       "(SetLink\n",
       "   (ListLink\n",
       "      (ConceptNode \"man\" (stv 0.01 0.9))\n",
       "   )\n",
       ")\n"
      ]
     },
     "execution_count": 9,
     "metadata": {},
     "output_type": "execute_result"
    }
   ],
   "source": [
    "(cog-execute! find-humans)"
   ]
  },
  {
   "cell_type": "markdown",
   "metadata": {},
   "source": [
    "Observe that there is only one instance of human defined. Output should be:\n",
    "\n",
    "$6 = (SetLink\n",
    "   (ListLink\n",
    "      (ConceptNode \"man\" (stv 0.0099999998 0.89999998))\n",
    "   )\n",
    ")"
   ]
  },
  {
   "cell_type": "markdown",
   "metadata": {},
   "source": [
    "The command 'cog-bind deduction-inheritance-rule' creates new relationships - deduces new facts about relationships. It will find relationships between various existing nodes (Einstein, Socrates, Peirce) to the node 'human'. Go ahead, run the command it:"
   ]
  },
  {
   "cell_type": "code",
   "execution_count": 10,
   "metadata": {
    "collapsed": false
   },
   "outputs": [
    {
     "data": {
      "text/plain": [
       "(SetLink\n",
       "   (InheritanceLink (stv 0.81111111 0.81)\n",
       "      (ConceptNode \"Einstein\" (stv 0.001 0.9))\n",
       "      (ConceptNode \"human\" (stv 0.02 0.9))\n",
       "   )\n",
       "   (InheritanceLink (stv 0.81111111 0.81)\n",
       "      (ConceptNode \"Socrates\" (stv 0.001 0.9))\n",
       "      (ConceptNode \"human\" (stv 0.02 0.9))\n",
       "   )\n",
       "   (InheritanceLink (stv 0.81111111 0.81)\n",
       "      (ConceptNode \"Peirce\" (stv 0.001 0.9))\n",
       "      (ConceptNode \"human\" (stv 0.02 0.9))\n",
       "   )\n",
       ")\n"
      ]
     },
     "execution_count": 10,
     "metadata": {},
     "output_type": "execute_result"
    }
   ],
   "source": [
    " (cog-execute! deduction-inheritance-rule)"
   ]
  },
  {
   "cell_type": "markdown",
   "metadata": {},
   "source": [
    "You can see from the output that it deduced that there were three other humans\n",
    "\n",
    "$6 = (SetLink\n",
    "   (InheritanceLink (stv 0.81111109 0.81)\n",
    "      (ConceptNode \"Einstein\" (stv 0.001 0.89999998))\n",
    "      (ConceptNode \"human\" (stv 0.02 0.89999998))\n",
    "   )\n",
    "   (InheritanceLink (stv 0.81111109 0.81)\n",
    "      (ConceptNode \"Socrates\" (stv 0.001 0.89999998))\n",
    "      (ConceptNode \"human\" (stv 0.02 0.89999998))\n",
    "   )\n",
    "   (InheritanceLink (stv 0.81111109 0.81)\n",
    "      (ConceptNode \"Peirce\" (stv 0.001 0.89999998))\n",
    "      (ConceptNode \"human\" (stv 0.02 0.89999998))\n",
    "   )\n",
    ")"
   ]
  },
  {
   "cell_type": "markdown",
   "metadata": {},
   "source": [
    "Run (cog-execute! find-humans) command again. Now you should see more humans. Observe that there are 3 additional instances of human defined (Socrates, Einstein & Peirce):"
   ]
  },
  {
   "cell_type": "code",
   "execution_count": 11,
   "metadata": {
    "collapsed": false
   },
   "outputs": [
    {
     "data": {
      "text/plain": [
       "(SetLink\n",
       "   (ListLink\n",
       "      (ConceptNode \"Socrates\" (stv 0.001 0.9))\n",
       "   )\n",
       "   (ListLink\n",
       "      (ConceptNode \"Einstein\" (stv 0.001 0.9))\n",
       "   )\n",
       "   (ListLink\n",
       "      (ConceptNode \"man\" (stv 0.01 0.9))\n",
       "   )\n",
       "   (ListLink\n",
       "      (ConceptNode \"Peirce\" (stv 0.001 0.9))\n",
       "   )\n",
       ")\n"
      ]
     },
     "execution_count": 11,
     "metadata": {},
     "output_type": "execute_result"
    }
   ],
   "source": [
    "(cog-execute! find-humans)"
   ]
  },
  {
   "cell_type": "markdown",
   "metadata": {},
   "source": [
    "$7 = (SetLink\n",
    "   (ListLink\n",
    "      (ConceptNode \"Socrates\" (stv 0.001 0.89999998))\n",
    "   )\n",
    "   (ListLink\n",
    "      (ConceptNode \"Einstein\" (stv 0.001 0.89999998))\n",
    "   )\n",
    "   (ListLink\n",
    "      (ConceptNode \"man\" (stv 0.0099999998 0.89999998))\n",
    "   )\n",
    "   (ListLink\n",
    "      (ConceptNode \"Peirce\" (stv 0.001 0.89999998))\n",
    "   )\n",
    ")"
   ]
  },
  {
   "cell_type": "markdown",
   "metadata": {},
   "source": [
    "### Create new concept nodes yourself and make a new inheritance link\n",
    "\n",
    "You can create new ConceptNodes yourself with inheritance from human. For example type:\n",
    "Create a new ConceptNode 'Adam Ford': (ConceptNode \"Adam Ford\" (stv .001 0.9)) Note: stv stands for SimpleTruthValue\n",
    "Create an inheritance link to man: (Inheritance (stv .9 .9) (ConceptNode \"Adam Ford\") (ConceptNode \"man\")) Note, the PLN deduction rule is probabilistic and will check whether the stvs on the concept nodes and inheritance links are consistent with probability theory, will silently discard inferences if they're not, see [1] for more details. Likewise the confidence (second value of the stv should be strictly positive, otherwise the deduction will likely not be able to infer anything useful.\n",
    "Try to find-humans (before running '(cog-bind deduction-inheritance-rule)' to deduce inheritances): (cog-bind find-humans) the new ConceptNode shouldn't be displayed yet.\n",
    "Next deduce the inheritances : (cog-bind deduction-inheritance-rule)\n",
    "Now find the humans again : (cog-bind find-humans) Now 'Adam Ford' should be listed as one of the humans.\n",
    "== Did you notice above that we set up an inheritance link such that 'Adam Ford' inherits from 'man'? Why didn't we just inherit from human?\n",
    "Create a new concept node 'Ben Goerzel' the same way as we did above with 'Adam Ford'. Then create an inheritance link to 'human': (Inheritance (stv .9 .9) (ConceptNode \"Ben Goerzel\") (ConceptNode \"human\"))\n",
    "Next deduce the inheritances (as above). What do you expect the output of (cog-bind deduction-inheritance-rule) will be?\n",
    "Does \"Ben Goertzel\" appear...? why (or why not)? :-)"
   ]
  },
  {
   "cell_type": "markdown",
   "metadata": {},
   "source": [
    "### More PLN examples\n",
    "See github, instructions in markdown\n",
    "\n",
    "__A deduction-rule example is given here__: This link no longer exists:\n",
    "-  https://github.com/opencog/opencog/tree/master/opencog/reasoning/pln/rules\n",
    "Is this the correct link?\n",
    "-  https://github.com/opencog/opencog/tree/master/opencog/pln/rules\n",
    "-  Old Python 'Smokes' example: https://github.com/opencog/opencog/tree/bf4581f5a59065d0aba0052c8fbab0599990bb60/opencog/python/pln_old/examples/tuffy/smokes\n",
    "-  Add an example stepping through some PLN inferences by hand in the Scheme shell, applying each rule by hand instead of using a chainer. The smokes example may be good for this.\n",
    "\n",
    "PLN rules on git: https://github.com/opencog/opencog/tree/master/opencog/pln/rules"
   ]
  },
  {
   "cell_type": "code",
   "execution_count": null,
   "metadata": {
    "collapsed": true
   },
   "outputs": [],
   "source": []
  }
 ],
 "metadata": {
  "kernelspec": {
   "display_name": "Guile",
   "language": "scheme",
   "name": "guile"
  },
  "language_info": {
   "codemirror_mode": "scheme",
   "file_extension": ".scm",
   "mimetype": "application/x-scheme",
   "name": "guile",
   "pygments_lexer": "scheme",
   "version": "2.2.0"
  }
 },
 "nbformat": 4,
 "nbformat_minor": 2
}
