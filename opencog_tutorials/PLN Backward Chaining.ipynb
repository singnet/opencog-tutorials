{
 "cells": [
  {
   "cell_type": "markdown",
   "metadata": {},
   "source": [
    "# PLN Backward Chaining\n",
    "\n",
    "Backward Chaining is (or planned to be) used in \n",
    "1. OpenCog for OpenPsi planning,\n",
    "2. improving fitness estimates of MOSES models,\n",
    "3. generally finding subtler patterns that specialized algorithms like the pattern miner miss.\n",
    "For a Background on PLN see Probabilistic logic networks."
   ]
  },
  {
   "cell_type": "markdown",
   "metadata": {},
   "source": [
    "## Theory\n",
    "\n",
    "-  In simple rule-based systems, there are two kinds of inference, forward chaining and backward chaining.\n",
    "\n",
    "Backward chaining: given a target, an atom that may or not contain free variables, the system tries to find an inference tree that proves the target, grounding the free variables if necessary.\n",
    "Because the target determines which rules are selected and used, this method is considered goal-driven, in contrast to data-driven forward-chaining inference. Backwards chaining is also considered to be goal-directed inference, or hypothesis driven, because inferences are not performed until the system is made to prove a particular goal (i.e. a question).\n",
    "Backward Chaining is used when you want to work backwards from the Consequent to the Antecedent. It is usually the part that follows 'then' in a proposition.\n",
    "\n",
    "#### Examples of antecedents & consequents:\n",
    "-  If __P__ then __Q__.\n",
    "__Q__ is the consequent of this hypothetical proposition.__P__ is the antecedent.\n",
    "-  If __X__ is a mammal, then __X__ is an animal.\n",
    "Here, \" __X__ is an animal\" is the consequent, and \"__X__ is a mammal\" an antecedent.\n",
    "-  If OpenCog can think, then the Singularity is near.\n",
    "\"the Singularity is near\" is the consequent, and \"OpenCog can think\" is an antecedent.\n",
    "\n",
    "### A logical example of Backward Chaining\n",
    "Here we will try to satisfy the goal of determining whether 'Plato is mortal' or not.\n",
    "Known facts:\n",
    "-  Plato is a philosopher\n",
    "-  Plato likes to wrestle\n",
    "The goal is to find out whether Plato is mortal based on a rule base:\n",
    "1. If X is a philosopher and likes to wrestle then X is a man\n",
    "2. If X can fly and lives in the sky then X is a god\n",
    "3. If X is a god then X is immortal\n",
    "4. If X is a man then X is mortal\n",
    "Using backwards reasoning we can determine whether Plato is mortal in 4 steps. As we can see from rule 4, that this rule has a consequent of 'X is mortal' matches our goal to find out if 'Plato is mortal', so this checks out. Look at the antecedent to step 4 (the bit just after the If clause) - it is 'X is a man'. So now this antecedent (Substituting X for Plato) becomes the new goal of finding out if 'Plato is a man'. \n",
    "We can see rule 1 contains the consequent 'X is a man', and can see the antecedents are .. 'X is a philosopher', and 'X likes to wrestle'.\n",
    "So now the antecedent(s) are broken down into two subgoals... \n",
    "Given the two facts of 'Plato is a Philosopher' and 'Plato likes to wrestle', we can see that these two subgoals are satisfied. \n",
    "We find rule 1 matches - and find that it is true that the consequent of rule 4 'X is mortal' matches - and therefore Plato is indeed mortal.\n",
    "\n",
    "### More theory\n",
    "Here is short explainer of Backward Chaining by Jocelyn Ireson-Paine\n",
    "Also see the Wikipedia Page on Backward Chaining"
   ]
  },
  {
   "cell_type": "markdown",
   "metadata": {},
   "source": [
    "### Practice\n",
    "The following example is a simplified version of frog and relies on some of its files. So first go under\n",
    "\n",
    "cd atomspace/examples/rule-engine/frog\n",
    "and fire up guile by typing \n",
    "\n",
    "guile \n",
    "\n",
    "into a terminal then set the logging level to debug (will be handy to understand what the backward chainer does)"
   ]
  },
  {
   "cell_type": "code",
   "execution_count": 28,
   "metadata": {
    "collapsed": false
   },
   "outputs": [
    {
     "data": {
      "text/plain": [
       "\"DEBUG\""
      ]
     },
     "execution_count": 28,
     "metadata": {},
     "output_type": "execute_result"
    }
   ],
   "source": [
    "(use-modules (ice-9 readline)) \n",
    "(activate-readline)\n",
    "(add-to-load-path \"/usr/local/share/opencog/scm\")\n",
    "(add-to-load-path \".\")\n",
    "(use-modules (opencog))\n",
    "(use-modules (opencog query))\n",
    "(use-modules (opencog exec))\n",
    "(use-modules (opencog logger))\n",
    "(cog-logger-set-level! \"debug\")"
   ]
  },
  {
   "cell_type": "markdown",
   "metadata": {},
   "source": [
    "In this example we have a black box for which we know there is something in it, and it makes croaking sounds and eats flies. The objective is to find the color of the thing in the black box. We have the following relations defined\n",
    "-  If X croaks and X eats flies - Then X is a frog\n",
    "-  If X is a frog - Then X is green\n",
    "Let's say the thing in black box is named Fritz and from above relations we need to deduce its color.\n",
    "Now load the rule-engine module, as well as the knowledge and rule bases"
   ]
  },
  {
   "cell_type": "code",
   "execution_count": 29,
   "metadata": {
    "collapsed": false
   },
   "outputs": [
    {
     "data": {
      "text/plain": [
       "#<unspecified>"
      ]
     },
     "execution_count": 29,
     "metadata": {},
     "output_type": "execute_result"
    }
   ],
   "source": [
    "(use-modules (opencog rule-engine))"
   ]
  },
  {
   "cell_type": "markdown",
   "metadata": {},
   "source": [
    "on guile, run \n",
    "\n",
    "(load \"knowledge-base.scm\")\n",
    "\n",
    "(load \"rule-base.scm\")\n",
    "\n",
    "Here are the file contents"
   ]
  },
  {
   "cell_type": "code",
   "execution_count": 30,
   "metadata": {
    "collapsed": false
   },
   "outputs": [
    {
     "data": {
      "text/plain": [
       "(EvaluationLink (stv 1 1)\n",
       "   (PredicateNode \"eats_flies\")\n",
       "   (ConceptNode \"Fritz\")\n",
       ")\n"
      ]
     },
     "execution_count": 30,
     "metadata": {},
     "output_type": "execute_result"
    }
   ],
   "source": [
    ";;;;;;;;;;;;;;;;;;;;\n",
    ";; Knowledge base ;;\n",
    ";;;;;;;;;;;;;;;;;;;;\n",
    "\n",
    "(ImplicationScope (stv 1.0 1.0)\n",
    "   (TypedVariable\n",
    "      (Variable \"$X\")\n",
    "      (Type \"ConceptNode\"))\n",
    "   (And\n",
    "      (Evaluation\n",
    "         (Predicate \"croaks\")\n",
    "         (Variable \"$X\"))\n",
    "      (Evaluation\n",
    "         (Predicate \"eats_flies\")\n",
    "         (Variable \"$X\")))\n",
    "   (Inheritance\n",
    "      (Variable \"$X\")\n",
    "      (Concept \"frog\")))\n",
    "\n",
    "(ImplicationScope (stv 1.0 1.0)\n",
    "   (TypedVariable\n",
    "      (Variable \"$X\")\n",
    "      (Type \"ConceptNode\"))\n",
    "   (And\n",
    "      (Evaluation\n",
    "         (Predicate \"chirps\")\n",
    "         (Variable \"$X\"))\n",
    "      (Evaluation\n",
    "         (Predicate \"sings\")\n",
    "         (Variable \"$X\")))\n",
    "   (Inheritance\n",
    "      (Variable \"$X\")\n",
    "      (Concept \"Canary\")))\n",
    "\n",
    "(ImplicationScope (stv 1.0 1.0)\n",
    "   (TypedVariable\n",
    "      (Variable \"$X\")\n",
    "      (Type \"ConceptNode\"))\n",
    "   (Inheritance\n",
    "      (Variable \"$X\")\n",
    "      (Concept \"frog\"))\n",
    "   (Inheritance\n",
    "      (Variable \"$X\")\n",
    "      (Concept \"green\")))\n",
    "\n",
    "(ImplicationScope (stv 1.0 1.0)\n",
    "   (TypedVariable\n",
    "      (Variable \"$X\")\n",
    "      (Type \"ConceptNode\"))\n",
    "   (Inheritance\n",
    "      (Variable \"$X\")\n",
    "      (Concept \"Canary\"))\n",
    "   (Inheritance\n",
    "      (Variable \"$X\")\n",
    "      (Concept \"yellow\")))\n",
    "\n",
    "(Evaluation (stv 1.0 1.0)\n",
    "   (Predicate \"croaks\")\n",
    "   (Concept \"Fritz\"))\n",
    "\n",
    "(Evaluation (stv 1.0 1.0)\n",
    "   (Predicate \"chirps\")\n",
    "   (Concept \"Tweety\"))\n",
    "\n",
    "(Inheritance (stv 1.0 1.0)\n",
    "   (Concept \"Tweety\")\n",
    "   (Concept \"yellow\"))\n",
    "\n",
    "(Evaluation (stv 1.0 1.0)\n",
    "   (Predicate \"eats_flies\")\n",
    "   (Concept \"Tweety\"))\n",
    "\n",
    "(Evaluation (stv 1.0 1.0)\n",
    "   (Predicate \"eats_flies\")\n",
    "   (Concept \"Fritz\"))"
   ]
  },
  {
   "cell_type": "markdown",
   "metadata": {},
   "source": [
    "The following two are files - conditional-instantiation-meta-rule.scm and fuzzy-conjunction-introduction-rule.scm which are required by rule-base.scm you may load them in guile as follows -\n",
    "\n",
    "(load \"../meta-rules/conditional-instantiation-meta-rule.scm\")\n",
    "(load \"../rules/fuzzy-conjunction-introduction-rule.scm\")"
   ]
  },
  {
   "cell_type": "code",
   "execution_count": 31,
   "metadata": {
    "collapsed": false
   },
   "outputs": [
    {
     "data": {
      "text/plain": [
       "#<unspecified>"
      ]
     },
     "execution_count": 31,
     "metadata": {},
     "output_type": "execute_result"
    }
   ],
   "source": [
    "; =============================================================================\n",
    "; Fuzzy conjunction introduction rule\n",
    ";\n",
    "; A1\n",
    "; ...\n",
    "; An\n",
    "; |-\n",
    "; AndLink\n",
    ";   A1\n",
    ";   ...\n",
    ";   An\n",
    ";\n",
    "; Where A1 to An are atoms with a fuzzy TV\n",
    "; -----------------------------------------------------------------------------\n",
    "\n",
    "(use-modules (opencog rule-engine))\n",
    "(use-modules (srfi srfi-1))\n",
    "\n",
    ";; Generate variable (Variable prefix + \"-\" + to_string(i))\n",
    "(define (gen-variable prefix i)\n",
    "  (Variable (string-append prefix \"-\" (number->string i))))\n",
    "\n",
    ";; Generate a list of variables (Variable prefix + \"-\" + to_string(n))\n",
    "(define (gen-variables prefix n)\n",
    "  (if (= n 0)\n",
    "      ;; Base case\n",
    "      '()\n",
    "      ;; Recursive case\n",
    "      (append (gen-variables prefix (- n 1))\n",
    "              (list (gen-variable prefix (- n 1))))))\n",
    "\n",
    ";; Generate a fuzzy conjunction introduction rule for an n-ary\n",
    ";; conjunction\n",
    "(define (gen-fuzzy-conjunction-introduction-rule nary)\n",
    "  (let* ((variables (gen-variables \"$X\" nary))\n",
    "         (EvaluationT (Type \"EvaluationLink\"))\n",
    "         (InheritanceT (Type \"InheritanceLink\"))\n",
    "         (type (TypeChoice EvaluationT InheritanceT))\n",
    "         (gen-typed-variable (lambda (x) (TypedVariable x type)))\n",
    "         (vardecl (VariableList (map gen-typed-variable variables)))\n",
    "         (pattern (And variables))\n",
    "         (rewrite (ExecutionOutput\n",
    "                    (GroundedSchema \"scm: fuzzy-conjunction-introduction-formula\")\n",
    "                    ;; We wrap the variables in Set because the order\n",
    "                    ;; doesn't matter and that way alpha-conversion\n",
    "                    ;; works better.\n",
    "                    (List (And variables) (Set variables)))))\n",
    "    (Bind\n",
    "      vardecl\n",
    "      pattern\n",
    "      rewrite)))\n",
    "\n",
    ";; Return true if all elements of the list are unique\n",
    "(define (is-set l)\n",
    "  (cond ((null? l) #t)\n",
    "        ((member (car l) (cdr l)) #f)\n",
    "        (else (is-set (cdr l)))))\n",
    "\n",
    ";; Check that they all are different, and have positive confidences\n",
    "(define (fuzzy-conjunction-introduction-precondition S)\n",
    "  (bool->tv (is-confident-enough-set (cog-outgoing-set S))))\n",
    "\n",
    "(define (is-confident-enough-set andees)\n",
    "  (let* ((confident-enough (lambda (A) (> (cog-stv-confidence A) 0))))\n",
    "    (and (is-set andees)\n",
    "         (every confident-enough andees))))\n",
    "\n",
    "(define (fuzzy-conjunction-introduction-formula A S)\n",
    "  (let* ((andees (cog-outgoing-set S))\n",
    "         (min-s-atom (min-element-by-key andees cog-stv-strength))\n",
    "         (min-c-atom (min-element-by-key andees cog-stv-confidence))\n",
    "         (min-s (cog-stv-strength min-s-atom))\n",
    "         (min-c (cog-stv-confidence min-c-atom)))\n",
    "    (if (is-confident-enough-set andees)       ; only introduce meaningful\n",
    "                                               ; conjunction of unique andees\n",
    "        (cog-set-tv! A (stv min-s min-c)))))\n",
    "\n",
    ";; Name the rules\n",
    "(define fuzzy-conjunction-introduction-2ary-rule\n",
    "  (gen-fuzzy-conjunction-introduction-rule 2))\n",
    "(define fuzzy-conjunction-introduction-2ary-rule-name\n",
    "  (DefinedSchema \"fuzzy-conjunction-introduction-2ary-rule\"))"
   ]
  },
  {
   "cell_type": "code",
   "execution_count": 32,
   "metadata": {
    "collapsed": false
   },
   "outputs": [
    {
     "data": {
      "text/plain": [
       "(DefineLink\n",
       "   (DefinedSchemaNode \"fuzzy-conjunction-introduction-2ary-rule\")\n",
       "   (BindLink\n",
       "      (VariableList\n",
       "         (TypedVariableLink\n",
       "            (VariableNode \"$X-0\")\n",
       "            (TypeChoice\n",
       "               (TypeNode \"EvaluationLink\")\n",
       "               (TypeNode \"InheritanceLink\")\n",
       "            )\n",
       "         )\n",
       "         (TypedVariableLink\n",
       "            (VariableNode \"$X-1\")\n",
       "            (TypeChoice\n",
       "               (TypeNode \"EvaluationLink\")\n",
       "               (TypeNode \"InheritanceLink\")\n",
       "            )\n",
       "         )\n",
       "      )\n",
       "      (AndLink\n",
       "         (VariableNode \"$X-0\")\n",
       "         (VariableNode \"$X-1\")\n",
       "      )\n",
       "      (ExecutionOutputLink\n",
       "         (GroundedSchemaNode \"scm: fuzzy-conjunction-introduction-formula\")\n",
       "         (ListLink\n",
       "            (AndLink\n",
       "               (VariableNode \"$X-0\")\n",
       "               (VariableNode \"$X-1\")\n",
       "            )\n",
       "            (SetLink\n",
       "               (VariableNode \"$X-0\")\n",
       "               (VariableNode \"$X-1\")\n",
       "            )\n",
       "         )\n",
       "      )\n",
       "   )\n",
       ")\n"
      ]
     },
     "execution_count": 32,
     "metadata": {},
     "output_type": "execute_result"
    }
   ],
   "source": [
    "(DefineLink\n",
    "  fuzzy-conjunction-introduction-2ary-rule-name\n",
    "  fuzzy-conjunction-introduction-2ary-rule)"
   ]
  },
  {
   "cell_type": "code",
   "execution_count": 33,
   "metadata": {
    "collapsed": false
   },
   "outputs": [
    {
     "data": {
      "text/plain": [
       "#<unspecified>"
      ]
     },
     "execution_count": 33,
     "metadata": {},
     "output_type": "execute_result"
    }
   ],
   "source": [
    ";;;;;;;;;;;;;;;;;;;;\n",
    ";; Rule base ;;\n",
    ";;;;;;;;;;;;;;;;;;;;\n",
    "\n",
    "(define conditional-full-instantiation-meta-variables\n",
    "  (VariableList\n",
    "     (TypedVariable\n",
    "        (Variable \"$TyVs\")\n",
    "        (TypeChoice\n",
    "           (Type \"TypedVariableLink\")\n",
    "           (Type \"VariableList\")))\n",
    "     (Variable \"$P\")\n",
    "     (Variable \"$Q\")))\n",
    "\n",
    "(define conditional-full-instantiation-meta-body\n",
    "  (let* ((implication (Quote (ImplicationScope\n",
    "                         (Unquote (Variable \"$TyVs\"))\n",
    "                         (Unquote (Variable \"$P\"))\n",
    "                         (Unquote (Variable \"$Q\")))))\n",
    "         (precondition (Evaluation\n",
    "                         (GroundedPredicate \"scm: true-enough\")\n",
    "                         implication)))\n",
    "  (And\n",
    "    implication\n",
    "    precondition)))\n",
    "\n",
    ";; Here only the implicant is considered as premise. The variable(s)\n",
    ";; should as well so the backward chainer can consider them as\n",
    ";; targets, however that implies to lay them out explicitly, so for\n",
    ";; sake of simplicity they are ignored for now.\n",
    "(define conditional-full-instantiation-meta-rewrite\n",
    "  (let* ((TyVs (Variable \"$TyVs\"))\n",
    "         (P (Variable \"$P\"))\n",
    "         (Q (Variable \"$Q\"))\n",
    "         (implication (Quote (ImplicationScope\n",
    "                         (Unquote TyVs)\n",
    "                         (Unquote P)\n",
    "                         (Unquote Q)))))\n",
    "    (Quote (Bind\n",
    "      (Unquote TyVs)\n",
    "      (And\n",
    "        (Unquote (LocalQuote (LocalQuote P)))\n",
    "        (Evaluation (GroundedPredicate \"scm: true-enough\") (Unquote P)))\n",
    "      (ExecutionOutput\n",
    "        (GroundedSchema \"scm: conditional-full-instantiation-formula\")\n",
    "        (Unquote\n",
    "          (ListLink\n",
    "            Q\n",
    "            implication\n",
    "            P)))))))\n",
    "\n",
    "(define conditional-full-instantiation-meta-rule\n",
    "  (BindLink\n",
    "     conditional-full-instantiation-meta-variables\n",
    "     conditional-full-instantiation-meta-body\n",
    "     conditional-full-instantiation-meta-rewrite))\n",
    "\n",
    ";; Return the TV of the evaluation of `an` assuming that it is an\n",
    ";; AndLink, that is return the TV which is the the min over the\n",
    ";; strengths and confidences of its outgoings. Normally this would be\n",
    ";; handled by a rule but to simplify the unit test it is hardcored\n",
    ";; here.\n",
    "(define (conjunction-fuzzy-eval an)\n",
    "  (let* ((outg (cog-outgoing-set an))\n",
    "         (min-s-atom (min-element-by-key outg cog-stv-strength))\n",
    "         (min-c-atom (min-element-by-key outg cog-stv-confidence))\n",
    "         (min-s (cog-stv-strength min-s-atom))\n",
    "         (min-c (cog-stv-confidence min-s-atom)))\n",
    "    (stv min-s min-c)))\n",
    "\n",
    "(define (true-enough-bool a)\n",
    "  (let ((s (cog-stv-strength a)) (c (cog-stv-confidence a)))\n",
    "    (and (> s 0.5) (> c 0.5))))\n",
    "\n",
    "(define (true-enough a)\n",
    "  (bool->tv (true-enough-bool a)))\n",
    "\n",
    ";; Set (stv 1 1) on Q is Impl and P strength are both above 0.5 and\n",
    ";; their confidence is non null.\n",
    "(define (conditional-full-instantiation-formula Q Impl P)\n",
    "  ;; Evaluate Q\n",
    "  (if (and (true-enough-bool Impl) (true-enough-bool P))\n",
    "      (cog-set-tv! Q (stv 1 1))))\n",
    "\n",
    ";; Name the meta rule\n",
    "(define conditional-full-instantiation-meta-rule-name\n",
    "  (DefinedSchemaNode \"conditional-full-instantiation-meta-rule\"))"
   ]
  },
  {
   "cell_type": "code",
   "execution_count": 34,
   "metadata": {
    "collapsed": false
   },
   "outputs": [
    {
     "data": {
      "text/plain": [
       "(DefineLink\n",
       "   (DefinedSchemaNode \"conditional-full-instantiation-meta-rule\")\n",
       "   (BindLink\n",
       "      (VariableList\n",
       "         (TypedVariableLink\n",
       "            (VariableNode \"$TyVs\")\n",
       "            (TypeChoice\n",
       "               (TypeNode \"TypedVariableLink\")\n",
       "               (TypeNode \"VariableList\")\n",
       "            )\n",
       "         )\n",
       "         (VariableNode \"$P\")\n",
       "         (VariableNode \"$Q\")\n",
       "      )\n",
       "      (AndLink\n",
       "         (QuoteLink\n",
       "            (ImplicationScopeLink\n",
       "               (UnquoteLink\n",
       "                  (VariableNode \"$TyVs\")\n",
       "               )\n",
       "               (UnquoteLink\n",
       "                  (VariableNode \"$P\")\n",
       "               )\n",
       "               (UnquoteLink\n",
       "                  (VariableNode \"$Q\")\n",
       "               )\n",
       "            )\n",
       "         )\n",
       "         (EvaluationLink\n",
       "            (GroundedPredicateNode \"scm: true-enough\")\n",
       "            (QuoteLink\n",
       "               (ImplicationScopeLink\n",
       "                  (UnquoteLink\n",
       "                     (VariableNode \"$TyVs\")\n",
       "                  )\n",
       "                  (UnquoteLink\n",
       "                     (VariableNode \"$P\")\n",
       "                  )\n",
       "                  (UnquoteLink\n",
       "                     (VariableNode \"$Q\")\n",
       "                  )\n",
       "               )\n",
       "            )\n",
       "         )\n",
       "      )\n",
       "      (QuoteLink\n",
       "         (BindLink\n",
       "            (UnquoteLink\n",
       "               (VariableNode \"$TyVs\")\n",
       "            )\n",
       "            (AndLink\n",
       "               (UnquoteLink\n",
       "                  (LocalQuoteLink\n",
       "                     (LocalQuoteLink\n",
       "                        (VariableNode \"$P\")\n",
       "                     )\n",
       "                  )\n",
       "               )\n",
       "               (EvaluationLink\n",
       "                  (GroundedPredicateNode \"scm: true-enough\")\n",
       "                  (UnquoteLink\n",
       "                     (VariableNode \"$P\")\n",
       "                  )\n",
       "               )\n",
       "            )\n",
       "            (ExecutionOutputLink\n",
       "               (GroundedSchemaNode \"scm: conditional-full-instantiation-formula\")\n",
       "               (UnquoteLink\n",
       "                  (ListLink\n",
       "                     (VariableNode \"$Q\")\n",
       "                     (QuoteLink\n",
       "                        (ImplicationScopeLink\n",
       "                           (UnquoteLink\n",
       "                              (VariableNode \"$TyVs\")\n",
       "                           )\n",
       "                           (UnquoteLink\n",
       "                              (VariableNode \"$P\")\n",
       "                           )\n",
       "                           (UnquoteLink\n",
       "                              (VariableNode \"$Q\")\n",
       "                           )\n",
       "                        )\n",
       "                     )\n",
       "                     (VariableNode \"$P\")\n",
       "                  )\n",
       "               )\n",
       "            )\n",
       "         )\n",
       "      )\n",
       "   )\n",
       ")\n"
      ]
     },
     "execution_count": 34,
     "metadata": {},
     "output_type": "execute_result"
    }
   ],
   "source": [
    "(DefineLink conditional-full-instantiation-meta-rule-name\n",
    "  conditional-full-instantiation-meta-rule)"
   ]
  },
  {
   "cell_type": "code",
   "execution_count": 35,
   "metadata": {
    "collapsed": false
   },
   "outputs": [
    {
     "data": {
      "text/plain": [
       "(MemberLink (stv 1 1)\n",
       "   (DefinedSchemaNode \"conditional-full-instantiation-meta-rule\")\n",
       "   (ConceptNode \"ci-rbs\")\n",
       ")\n"
      ]
     },
     "execution_count": 35,
     "metadata": {},
     "output_type": "execute_result"
    }
   ],
   "source": [
    "(define ci-rbs (ConceptNode \"ci-rbs\"))\n",
    "(Inheritance ci-rbs (ConceptNode \"URE\"))\n",
    "\n",
    ";; Associate the rules to the rule base (with weights, their semantics\n",
    ";; is currently undefined, we might settled with probabilities but it's\n",
    ";; not sure)\n",
    "(MemberLink (stv 1 1)\n",
    "   conditional-full-instantiation-meta-rule-name\n",
    "   ci-rbs\n",
    ")\n"
   ]
  },
  {
   "cell_type": "code",
   "execution_count": 36,
   "metadata": {
    "collapsed": false
   },
   "outputs": [
    {
     "data": {
      "text/plain": [
       "(MemberLink (stv 1 1)\n",
       "   (DefinedSchemaNode \"fuzzy-conjunction-introduction-2ary-rule\")\n",
       "   (ConceptNode \"ci-rbs\")\n",
       ")\n"
      ]
     },
     "execution_count": 36,
     "metadata": {},
     "output_type": "execute_result"
    }
   ],
   "source": [
    "(MemberLink (stv 1 1)\n",
    "   fuzzy-conjunction-introduction-2ary-rule-name\n",
    "   ci-rbs\n",
    ")"
   ]
  },
  {
   "cell_type": "code",
   "execution_count": 37,
   "metadata": {
    "collapsed": false
   },
   "outputs": [
    {
     "data": {
      "text/plain": [
       "(ExecutionLink\n",
       "   (SchemaNode \"URE:maximum-iterations\")\n",
       "   (ConceptNode \"ci-rbs\")\n",
       "   (NumberNode \"20.000000\")\n",
       ")\n"
      ]
     },
     "execution_count": 37,
     "metadata": {},
     "output_type": "execute_result"
    }
   ],
   "source": [
    ";; termination criteria parameters\n",
    "(ExecutionLink\n",
    "   (SchemaNode \"URE:maximum-iterations\")\n",
    "   ci-rbs\n",
    "   (NumberNode \"20\")\n",
    ")\n"
   ]
  },
  {
   "cell_type": "code",
   "execution_count": 38,
   "metadata": {
    "collapsed": false
   },
   "outputs": [
    {
     "data": {
      "text/plain": [
       "(EvaluationLink (stv 0 1)\n",
       "   (PredicateNode \"URE:attention-allocation\")\n",
       "   (ConceptNode \"ci-rbs\")\n",
       ")\n"
      ]
     },
     "execution_count": 38,
     "metadata": {},
     "output_type": "execute_result"
    }
   ],
   "source": [
    ";; Attention allocation (set the TV strength to 0 to disable it, 1 to\n",
    ";; enable it)\n",
    "(EvaluationLink (stv 0 1)\n",
    "   (PredicateNode \"URE:attention-allocation\")\n",
    "   ci-rbs\n",
    ")"
   ]
  },
  {
   "cell_type": "markdown",
   "metadata": {},
   "source": [
    "In knowledge-base.scm. You may observe ImplicationScopeLinks such as\n",
    "\n",
    "(ImplicationScope (stv 1.0 1.0)\n",
    "\n",
    "   (TypedVariable\n",
    "   \n",
    "      (Variable \"$X\")\n",
    "      \n",
    "      (Type \"ConceptNode\"))\n",
    "      \n",
    "   (And\n",
    "      (Evaluation\n",
    "      \n",
    "         (Predicate \"croaks\")\n",
    "         \n",
    "         (Variable \"$X\"))\n",
    "         \n",
    "      (Evaluation\n",
    "        (Predicate \"eats_flies\")\n",
    "        \n",
    "        (Variable \"$X\")))\n",
    "        \n",
    "   (Inheritance\n",
    "   \n",
    "      (Variable \"$X\")\n",
    "      \n",
    "      (Concept \"frog\")))\n",
    "      \n",
    "      \n",
    "encoding the relationship\n",
    "\n",
    "-  If X croaks and X eats flies - Then X is a frog\n",
    "At the end of that same file, there are facts regarding Fritz and other animals as they relate to attributes using EvaluationLinks.\n",
    "You may want to take a look at rule-base.scm which loads rules, associate them to a rule-base (called ci-rbs) and set some URE parameters (such as URE:maximum-iterations). As well as exploring the rule files conditional-instantiation-meta-rule.scm and fuzzy-conjunction-introduction-rule.scm as well. Don't worry if you don't understand it, just read the comments on the top of the files that explains what the rules are doing.\n",
    "What the backward chainer is gonna do is use these rules over the knowledge base to find out what is green. We are going to call the backward chainer but let's first define the target"
   ]
  },
  {
   "cell_type": "code",
   "execution_count": 39,
   "metadata": {
    "collapsed": false
   },
   "outputs": [
    {
     "data": {
      "text/plain": [
       "#<unspecified>"
      ]
     },
     "execution_count": 39,
     "metadata": {},
     "output_type": "execute_result"
    }
   ],
   "source": [
    "(define target\n",
    "  (InheritanceLink (VariableNode \"$what\") (ConceptNode \"green\"))\n",
    ")"
   ]
  },
  {
   "cell_type": "markdown",
   "metadata": {},
   "source": [
    "meaning you want atoms that have an inheritance relationship with the concept green. To simplify the life the backward chainer and avoid non nonsensical answers (just as the target itself), let's restrict the type of the variable $what"
   ]
  },
  {
   "cell_type": "code",
   "execution_count": 40,
   "metadata": {
    "collapsed": false
   },
   "outputs": [
    {
     "data": {
      "text/plain": [
       "#<unspecified>"
      ]
     },
     "execution_count": 40,
     "metadata": {},
     "output_type": "execute_result"
    }
   ],
   "source": [
    "(define vardecl\n",
    "  (TypedVariable (VariableNode \"$what\") (TypeNode \"ConceptNode\"))\n",
    ")"
   ]
  },
  {
   "cell_type": "markdown",
   "metadata": {},
   "source": [
    "We may now call the backward chainer as follows"
   ]
  },
  {
   "cell_type": "code",
   "execution_count": 41,
   "metadata": {
    "collapsed": false
   },
   "outputs": [
    {
     "data": {
      "text/plain": [
       "(SetLink\n",
       "   (InheritanceLink (stv 1 1)\n",
       "      (ConceptNode \"Fritz\")\n",
       "      (ConceptNode \"green\")\n",
       "   )\n",
       ")\n"
      ]
     },
     "execution_count": 41,
     "metadata": {},
     "output_type": "execute_result"
    }
   ],
   "source": [
    "(cog-bc ci-rbs target #:vardecl vardecl)"
   ]
  },
  {
   "cell_type": "markdown",
   "metadata": {},
   "source": [
    "$4 = (SetLink\n",
    "   (InheritanceLink (stv 1 1)\n",
    "      (ConceptNode \"Fritz\")\n",
    "      (ConceptNode \"green\")\n",
    "   )\n",
    ")\n",
    "\n",
    "If you wish to understand in more depth how the backward chainer came up with the answer, open the log file opencog.log under the same directory. Search the messages logged by the URE components (containing the string \"[URE]\") and try to make sense of what you see. :-) In particular you may find that the inference trees evolved by the backward chainer are logged right after the message \"With inference tree:\". For instance the inference tree corresponding to the solution is\n",
    "\n",
    "                          [12543950459016998847][1] [15852562040974555944][1]\n",
    "                          ======fuzzy-conjunction-introduction-formula=======\n",
    "             [14398977004689637744][1] [15383395919935236078][1]\n",
    "             ------conditional-full-instantiation-formula-------\n",
    "[15603332628456784367][1] [13829542973489658864][1]\n",
    "------conditional-full-instantiation-formula-------\n",
    "             [13520875333812722983][1]\n",
    "where the numbers corresponds the UUIDs of the atoms, target, intermediary targets and premises, involved with the inference. If you search these UUIDs you can get the corresponding atoms in the log file."
   ]
  },
  {
   "cell_type": "markdown",
   "metadata": {},
   "source": [
    "*If you dear reader think of some good quiz questions, add them to the discussion branch of this wiki page\n",
    "Info\n",
    "\n",
    "Maintained by Misgana, Nil (Practise)\n",
    "Theory/Quiz added by Adam\n",
    "Priority: Medium\n",
    "add a good example (William Ma should pick the example)"
   ]
  },
  {
   "cell_type": "code",
   "execution_count": null,
   "metadata": {
    "collapsed": true
   },
   "outputs": [],
   "source": []
  }
 ],
 "metadata": {
  "kernelspec": {
   "display_name": "Guile",
   "language": "scheme",
   "name": "guile"
  },
  "language_info": {
   "codemirror_mode": "scheme",
   "file_extension": ".scm",
   "mimetype": "application/x-scheme",
   "name": "guile",
   "pygments_lexer": "scheme",
   "version": "2.2.0"
  }
 },
 "nbformat": 4,
 "nbformat_minor": 2
}
